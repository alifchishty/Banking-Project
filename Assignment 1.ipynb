{
 "cells": [
  {
   "cell_type": "raw",
   "id": "c39eae7e-e011-40b3-a846-0bbfb5dac00d",
   "metadata": {},
   "source": [
    "1) Using the python print function print any string value, integer value, boolean value, float value in single print command"
   ]
  },
  {
   "cell_type": "code",
   "execution_count": 56,
   "id": "a73fc608-afdb-4920-a164-bb4efde73283",
   "metadata": {},
   "outputs": [
    {
     "name": "stdout",
     "output_type": "stream",
     "text": [
      "Ali 28 True 70.5\n"
     ]
    }
   ],
   "source": [
    "print(\"Ali\",28,True,70.5)\n",
    "\n"
   ]
  },
  {
   "cell_type": "raw",
   "id": "c9cfbda7-5fd9-45e0-aeff-1de49721c60e",
   "metadata": {},
   "source": [
    "2) Using the python print function print hyphon(-) separated any string value, integer value, boolean value, float value in single print command"
   ]
  },
  {
   "cell_type": "code",
   "execution_count": 50,
   "id": "b41d38e2-84e9-4f94-8167-784a36f0b0b4",
   "metadata": {},
   "outputs": [
    {
     "name": "stdout",
     "output_type": "stream",
     "text": [
      "Ali-28-True-70.5\n"
     ]
    }
   ],
   "source": [
    "print (\"Ali\", 28, True, 70.5, sep=(\"-\"))"
   ]
  },
  {
   "cell_type": "raw",
   "id": "31ee78ad-5757-499f-93cc-1694867944f3",
   "metadata": {},
   "source": [
    "3) Using the python print function print any string value, integer value, boolean value, float value in separate print command.\n",
    "But every value must be space separated and in single line"
   ]
  },
  {
   "cell_type": "code",
   "execution_count": 66,
   "id": "71aa4d3b-bb5b-4d51-b3b2-f9c14a5291e2",
   "metadata": {},
   "outputs": [
    {
     "name": "stdout",
     "output_type": "stream",
     "text": [
      "Ali 28 True 70.5 "
     ]
    }
   ],
   "source": [
    "print (\"Ali\", end=\" \") \n",
    "print (28, end=\" \")\n",
    "print (True, end=\" \")\n",
    "print (70.5, end=\" \")"
   ]
  },
  {
   "cell_type": "code",
   "execution_count": null,
   "id": "3c46d12c-6393-4a92-98cf-bfcf2fafbab3",
   "metadata": {},
   "outputs": [],
   "source": [
    "4) Can a python print function take no value to print???"
   ]
  },
  {
   "cell_type": "code",
   "execution_count": 68,
   "id": "3b17cb8c-1d0c-45c8-82e1-6a0a3bf44859",
   "metadata": {},
   "outputs": [
    {
     "name": "stdout",
     "output_type": "stream",
     "text": [
      "\n"
     ]
    }
   ],
   "source": [
    "print()"
   ]
  },
  {
   "cell_type": "raw",
   "id": "c93bb8d7-5284-46d5-934f-17407045dd9f",
   "metadata": {},
   "source": [
    "5) One of my friends name is Mr. Ahmed. He is 30 years old.  He is a lawyer by profession. He has done his bachelors in law in the year 2005. He is working with a reputable law firm 'The Himalya Associates' in Karachi since 2015.\n",
    "He is a handsome laywer with height of 5.10 feets and weight 70600g. His monthly income is Rs. 200k PKR.\n",
    "\n",
    "Note: Create variables from above text and also assign values from the text.  "
   ]
  },
  {
   "cell_type": "code",
   "execution_count": 12,
   "id": "b58ac523-4897-49c0-90aa-eca681667ea4",
   "metadata": {},
   "outputs": [],
   "source": [
    "Friend_name= (\"Ahmed\")\n",
    "Age = (30)\n",
    "Profession = (\"Lawyer\")\n",
    "Qualification = (\"Bachelors in Law\")\n",
    "Graduation_year = (2005)\n",
    "Firm_name = (\"The Himalya Associates\")\n",
    "Joining_date = (2015)\n",
    "Height_feet = (5.10)\n",
    "Weight_grams = (70600)\n",
    "monthly_income_pkr = (200000)"
   ]
  },
  {
   "cell_type": "raw",
   "id": "b231d23a-2a49-44d2-8eb9-f29dfa997c9d",
   "metadata": {},
   "source": [
    "6) How many years has been to Mr. Ahmed after his bachelors degree? Create a variable that hold current year value and then subtract it from his passout year."
   ]
  },
  {
   "cell_type": "code",
   "execution_count": 14,
   "id": "e1992787-9520-48e6-9c77-20f5347c1d41",
   "metadata": {},
   "outputs": [],
   "source": [
    "current_year = 2024"
   ]
  },
  {
   "cell_type": "code",
   "execution_count": 44,
   "id": "1f30497a-5b8d-413c-9759-b9a48283f886",
   "metadata": {},
   "outputs": [
    {
     "name": "stdout",
     "output_type": "stream",
     "text": [
      "My friend Ahmed has taken his degree in 19 years.\n"
     ]
    }
   ],
   "source": [
    "time_after_graduation = (current_year - Graduation_year)\n",
    "\n",
    "print(f\"My friend {Friend_name} has taken his degree in {time_after_graduation} years.\")"
   ]
  },
  {
   "cell_type": "raw",
   "id": "b9b34b26-b22e-4631-9c79-7435bb3d0964",
   "metadata": {},
   "source": [
    "7) How many years has Mr. Ahmed been working with law firm 'The Himalya Associates'. Create necesary variables and print the correct number of years in working in the firm."
   ]
  },
  {
   "cell_type": "code",
   "execution_count": 50,
   "id": "a14081a4-98da-4818-a1d1-97f8e5a3f56d",
   "metadata": {},
   "outputs": [
    {
     "data": {
      "text/plain": [
       "9"
      ]
     },
     "execution_count": 50,
     "metadata": {},
     "output_type": "execute_result"
    }
   ],
   "source": [
    "working_in_firm = (current_year - Joining_date)\n",
    "working_in_firm"
   ]
  },
  {
   "cell_type": "raw",
   "id": "6cb59926-0005-45df-8511-27f27b830455",
   "metadata": {},
   "source": [
    "8) Convert the monthly income of Mr. Ahmed in dollars.  Create necesary variables and print the income in dollars."
   ]
  },
  {
   "cell_type": "code",
   "execution_count": 20,
   "id": "ca9240a7-577d-4ba7-85cd-38ef77c3087a",
   "metadata": {},
   "outputs": [],
   "source": [
    "Dollar = 280"
   ]
  },
  {
   "cell_type": "code",
   "execution_count": 102,
   "id": "95c2ba3f-2622-427e-acc1-0d047f3554d2",
   "metadata": {},
   "outputs": [
    {
     "data": {
      "text/plain": [
       "'714.2857142857143 dollars'"
      ]
     },
     "execution_count": 102,
     "metadata": {},
     "output_type": "execute_result"
    }
   ],
   "source": [
    "income_dollar = (f\"{(monthly_income_pkr / Dollar)} dollars\")\n",
    "income_dollar\n"
   ]
  },
  {
   "cell_type": "raw",
   "id": "fcb2bdd2-d5b0-484c-ba9d-bcaa40fe251a",
   "metadata": {},
   "source": [
    "9) Check if the income in dollars is a float or integer value. if it is float, re-write the code so that income gets converted in integer. print the income in integer type value."
   ]
  },
  {
   "cell_type": "code",
   "execution_count": 100,
   "id": "3f08f0a0-ea79-4273-a017-baaee077e655",
   "metadata": {},
   "outputs": [
    {
     "name": "stdout",
     "output_type": "stream",
     "text": [
      "714 dollars\n"
     ]
    }
   ],
   "source": [
    "print (f\"{int(monthly_income_dollar)} dollars\")"
   ]
  },
  {
   "cell_type": "raw",
   "id": "932d6f0d-4c23-4ba8-a6cf-7bb951af64ee",
   "metadata": {},
   "source": [
    "10) Print the type of Mr. Ahmed's weight. Convert the weight of Mr. Ahmed in kg so that weight must be a integer value."
   ]
  },
  {
   "cell_type": "code",
   "execution_count": 114,
   "id": "021a59a4-4aa3-4746-bfe0-1c8017b9070b",
   "metadata": {},
   "outputs": [
    {
     "name": "stdout",
     "output_type": "stream",
     "text": [
      " my friend Ahmed weight is 70.6 KG\n"
     ]
    }
   ],
   "source": [
    "weight_kg = Weight_grams / 1000\n",
    "weight_kg\n",
    "\n",
    "print (f\" my friend {Friend_name} weight is {weight_kg} KG\")"
   ]
  },
  {
   "cell_type": "code",
   "execution_count": 136,
   "id": "77d7b86d-d599-4ab8-b38d-9829b6ff76ae",
   "metadata": {},
   "outputs": [
    {
     "name": "stdout",
     "output_type": "stream",
     "text": [
      " 70 kg\n"
     ]
    }
   ],
   "source": [
    "print (f\" {int(weight_kg)} kg\")"
   ]
  },
  {
   "cell_type": "raw",
   "id": "46c9aa8c-3eb0-46e1-8266-3abc49f31251",
   "metadata": {},
   "source": [
    "11) Print the year of Ahmed's birth"
   ]
  },
  {
   "cell_type": "code",
   "execution_count": 140,
   "id": "1fdc5716-ab86-4abd-a88a-08d65c417ef4",
   "metadata": {},
   "outputs": [
    {
     "data": {
      "text/plain": [
       "1994"
      ]
     },
     "execution_count": 140,
     "metadata": {},
     "output_type": "execute_result"
    }
   ],
   "source": [
    "birth_year = current_year - Age\n",
    "birth_year"
   ]
  },
  {
   "cell_type": "raw",
   "id": "1ce992b7-4e6b-49d7-9442-26eebf63c5b0",
   "metadata": {},
   "source": [
    "12) Can Rs. 100 be divided equally among 6 students?\n",
    "HINT: % operator (modulo)"
   ]
  },
  {
   "cell_type": "code",
   "execution_count": 142,
   "id": "b86833c9-4216-4a12-92b0-58b7378893ee",
   "metadata": {},
   "outputs": [
    {
     "data": {
      "text/plain": [
       "4"
      ]
     },
     "execution_count": 142,
     "metadata": {},
     "output_type": "execute_result"
    }
   ],
   "source": [
    "100%6"
   ]
  },
  {
   "cell_type": "raw",
   "id": "dc2ab59b-996f-4f94-9a99-04053ebdb79c",
   "metadata": {},
   "source": [
    "No It cannot be."
   ]
  }
 ],
 "metadata": {
  "kernelspec": {
   "display_name": "Python 3 (ipykernel)",
   "language": "python",
   "name": "python3"
  },
  "language_info": {
   "codemirror_mode": {
    "name": "ipython",
    "version": 3
   },
   "file_extension": ".py",
   "mimetype": "text/x-python",
   "name": "python",
   "nbconvert_exporter": "python",
   "pygments_lexer": "ipython3",
   "version": "3.12.7"
  }
 },
 "nbformat": 4,
 "nbformat_minor": 5
}
