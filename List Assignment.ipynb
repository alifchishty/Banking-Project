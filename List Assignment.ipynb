{
 "cells": [
  {
   "cell_type": "raw",
   "id": "634bbf17-b507-41e6-b753-95441cc460cd",
   "metadata": {},
   "source": [
    "1. Write a program that accepts a list from user and print the alternate element of list."
   ]
  },
  {
   "cell_type": "code",
   "execution_count": 14,
   "id": "c0662cf9-33ca-476e-8d81-494060f034e6",
   "metadata": {},
   "outputs": [
    {
     "name": "stdin",
     "output_type": "stream",
     "text": [
      "please enter a list of number 1 2 3 4 5 6 7 8\n"
     ]
    },
    {
     "name": "stdout",
     "output_type": "stream",
     "text": [
      "['1', '3', '5', '7']\n"
     ]
    }
   ],
   "source": [
    "a= input('please enter a list of number')\n",
    "element = a.split()\n",
    "alternate_elements = element[::2]\n",
    "\n",
    "print (alternate_elements)"
   ]
  },
  {
   "cell_type": "raw",
   "id": "45bfc3dc-9251-4c0e-a644-c02d929ef7e6",
   "metadata": {},
   "source": [
    "2. Write a program that accepts a list from user. Your program should reverse the content of list and\n",
    "display it. Do not use reverse() method. \n"
   ]
  },
  {
   "cell_type": "code",
   "execution_count": 16,
   "id": "9e5989ef-3ea2-45ea-9ab9-54f1faea4fca",
   "metadata": {},
   "outputs": [
    {
     "name": "stdin",
     "output_type": "stream",
     "text": [
      "enter the list to reverse 123456789\n"
     ]
    },
    {
     "name": "stdout",
     "output_type": "stream",
     "text": [
      "987654321\n"
     ]
    }
   ],
   "source": [
    "input_user =  input('enter the list to reverse')\n",
    "reverse_input = input_user[::-1]\n",
    "print (reverse_input)"
   ]
  },
  {
   "cell_type": "raw",
   "id": "7f2fc642-3595-42dd-929a-12cd095db3aa",
   "metadata": {},
   "source": [
    " 3. Find and display the largest number of a list without using built-in function max(). Your program\n",
    "should ask the user to input values in list from keyboard. \n"
   ]
  },
  {
   "cell_type": "code",
   "execution_count": 38,
   "id": "b7706368-69cd-4bad-859e-b3c1dc1de65f",
   "metadata": {},
   "outputs": [
    {
     "name": "stdin",
     "output_type": "stream",
     "text": [
      "enter a number list here 1 2 3 4 5 6 7 8 9\n"
     ]
    },
    {
     "name": "stdout",
     "output_type": "stream",
     "text": [
      "9\n"
     ]
    }
   ],
   "source": [
    "input_user = input('enter a number list here')\n",
    "numbers = list(map(int, input_user.split()))\n",
    "largest_number = numbers[0]\n",
    "for number in numbers:\n",
    "    if number > largest_number:\n",
    "        largest_number = number\n",
    "print(largest_number)\n",
    "    "
   ]
  },
  {
   "cell_type": "raw",
   "id": "228c6d8f-c878-494b-a433-c04a1fa448e7",
   "metadata": {},
   "source": [
    "4. Write a program that rotates the element of a list so that the element at the first index moves to the\n",
    "second index, the element in the second index moves to the third index, etc., and the element in the last\n",
    "index moves to the first index."
   ]
  },
  {
   "cell_type": "code",
   "execution_count": 1,
   "id": "bed02bf8-fece-45a2-a2ae-0d2788ea9246",
   "metadata": {},
   "outputs": [
    {
     "name": "stdout",
     "output_type": "stream",
     "text": [
      "Original list: [1, 2, 3, 4, 5]\n",
      "Rotated list: [5, 1, 2, 3, 4]\n"
     ]
    }
   ],
   "source": [
    "def rotate_list(lst):\n",
    "    if not lst:\n",
    "        return lst\n",
    "    return [lst[-1]] + lst[:-1]\n",
    "\n",
    "my_list = [1, 2, 3, 4, 5]\n",
    "rotated_list = rotate_list(my_list)\n",
    "print(\"Original list:\", my_list)\n",
    "print(\"Rotated list:\", rotated_list)\n"
   ]
  },
  {
   "cell_type": "raw",
   "id": "53b3a858-b4cc-4111-a1a4-b25af0acd6d9",
   "metadata": {},
   "source": [
    "5. Write a program that input a string and ask user to delete a given word from a string."
   ]
  },
  {
   "cell_type": "code",
   "execution_count": 10,
   "id": "0e355ef0-6a92-4770-8d23-dde411e31a71",
   "metadata": {},
   "outputs": [
    {
     "name": "stdin",
     "output_type": "stream",
     "text": [
      "enter an input ali the q\n",
      "enter a word to delete q\n"
     ]
    },
    {
     "name": "stdout",
     "output_type": "stream",
     "text": [
      "ali the \n"
     ]
    }
   ],
   "source": [
    "word1 = input('enter an input')\n",
    "deleted_word= input('enter a word to delete')\n",
    "modified = word1.replace(deleted_word, '')\n",
    "\n",
    "print (modified)"
   ]
  },
  {
   "cell_type": "raw",
   "id": "48e63781-0cc7-4c3f-aee1-88f596628d8d",
   "metadata": {},
   "source": [
    " 6. Write a program that reads a string from the user containing a date in the form mm/dd/yyyy. It\n",
    "should print the date in the form March 12, 2021. "
   ]
  },
  {
   "cell_type": "code",
   "execution_count": 3,
   "id": "3841248b-a0cf-449c-8ac3-19a8373aa930",
   "metadata": {},
   "outputs": [],
   "source": [
    "from datetime import datetime"
   ]
  },
  {
   "cell_type": "code",
   "execution_count": 12,
   "id": "0658686f-f725-4364-a6cb-23272ae85edb",
   "metadata": {},
   "outputs": [
    {
     "name": "stdin",
     "output_type": "stream",
     "text": [
      "enter a date m/d/y:  2/2/22\n"
     ]
    },
    {
     "name": "stdout",
     "output_type": "stream",
     "text": [
      "Feb/02/22\n"
     ]
    }
   ],
   "source": [
    "date = input('enter a date m/d/y: ')\n",
    "date2 = datetime.strptime(date, '%m/%d/%y')\n",
    "format_ = date2.strftime ('%b/%d/%y') \n",
    "print (format_)\n"
   ]
  },
  {
   "cell_type": "raw",
   "id": "c846fe99-0839-4c1e-8469-0f5e8441ef0c",
   "metadata": {},
   "source": [
    "7. Write a program with a function that accepts a string from keyboard and create a new string after\n",
    "converting character of each word capitalized. For instance, if the sentence is \"stop and smell the roses.\"\n",
    "the output should be \"Stop And Smell The Roses\""
   ]
  },
  {
   "cell_type": "code",
   "execution_count": 2,
   "id": "c3d71bf1-39ec-4eaa-98f1-574e4e42e8e9",
   "metadata": {},
   "outputs": [
    {
     "name": "stdin",
     "output_type": "stream",
     "text": [
      "Enter a sentence:  stop and smell the roses\n"
     ]
    },
    {
     "name": "stdout",
     "output_type": "stream",
     "text": [
      "Output: Stop And Smell The Roses\n"
     ]
    }
   ],
   "source": [
    "def capitalize_words(sentence):\n",
    "    return sentence.title()\n",
    "\n",
    "input_sentence = input(\"Enter a sentence: \")\n",
    "output_sentence = capitalize_words(input_sentence)\n",
    "\n",
    "print(\"Output:\", output_sentence)\n"
   ]
  },
  {
   "cell_type": "raw",
   "id": "25488143-fa70-4b15-a169-c5e1e01e301a",
   "metadata": {},
   "source": [
    "8. Find the sum of each row of matrix of size m x n. For example for the following matrix output will be\n",
    "like this :\n",
    "\n",
    "Sum of row 1 = 32\n",
    "Sum of row 2 = 31\n",
    "Sum of row 3 = 63"
   ]
  },
  {
   "cell_type": "code",
   "execution_count": 3,
   "id": "0be73c9d-6c98-465a-8acd-cb9b30a23888",
   "metadata": {},
   "outputs": [
    {
     "name": "stdout",
     "output_type": "stream",
     "text": [
      "Sum of row 1 = 32\n",
      "Sum of row 2 = 31\n",
      "Sum of row 3 = 63\n"
     ]
    }
   ],
   "source": [
    "def sum_of_rows(matrix):\n",
    "    for i, row in enumerate(matrix, start=1):\n",
    "        row_sum = sum(row)\n",
    "        print(f\"Sum of row {i} = {row_sum}\")\n",
    "\n",
    "matrix = [\n",
    "    [3, 8, 2, 9, 10],\n",
    "    [7, 5, 6, 3, 10],\n",
    "    [10, 15, 20, 10, 8]\n",
    "]\n",
    "\n",
    "\n",
    "sum_of_rows(matrix)\n"
   ]
  },
  {
   "cell_type": "raw",
   "id": "d64a3661-d8ba-46e9-a8a7-3de75eaaa522",
   "metadata": {},
   "source": [
    "9. Write a program to add two matrices of size n x m."
   ]
  },
  {
   "cell_type": "code",
   "execution_count": 8,
   "id": "cb40905e-4e45-4385-be80-c8313189d94f",
   "metadata": {},
   "outputs": [
    {
     "name": "stdin",
     "output_type": "stream",
     "text": [
      "Enter the number of rows:  2\n",
      "Enter the number of columns:  2\n"
     ]
    },
    {
     "name": "stdout",
     "output_type": "stream",
     "text": [
      "\n",
      "Input for Matrix 1:\n",
      "Enter the elements of a 2x2 matrix:\n"
     ]
    },
    {
     "name": "stdin",
     "output_type": "stream",
     "text": [
      "Enter row 1 (space-separated):  2\n"
     ]
    },
    {
     "name": "stdout",
     "output_type": "stream",
     "text": [
      "Invalid input. Please enter exactly 2 elements.\n"
     ]
    },
    {
     "name": "stdin",
     "output_type": "stream",
     "text": [
      "Re-enter row 1 (space-separated):  22\n"
     ]
    },
    {
     "name": "stdout",
     "output_type": "stream",
     "text": [
      "Invalid input. Please enter exactly 2 elements.\n"
     ]
    },
    {
     "name": "stdin",
     "output_type": "stream",
     "text": [
      "Re-enter row 1 (space-separated):  2 2\n",
      "Enter row 2 (space-separated):  2 2\n"
     ]
    },
    {
     "name": "stdout",
     "output_type": "stream",
     "text": [
      "\n",
      "Input for Matrix 2:\n",
      "Enter the elements of a 2x2 matrix:\n"
     ]
    },
    {
     "name": "stdin",
     "output_type": "stream",
     "text": [
      "Enter row 1 (space-separated):  1 1\n",
      "Enter row 2 (space-separated):  1 2\n"
     ]
    },
    {
     "name": "stdout",
     "output_type": "stream",
     "text": [
      "\n",
      "Matrix 1:\n",
      "2 2\n",
      "2 2\n",
      "\n",
      "Matrix 2:\n",
      "1 1\n",
      "1 2\n",
      "\n",
      "Resultant Matrix after Addition:\n",
      "3 3\n",
      "3 4\n"
     ]
    }
   ],
   "source": [
    "def input_matrix(rows, cols):\n",
    "    \"\"\"Function to input a matrix of size rows x cols\"\"\"\n",
    "    print(f\"Enter the elements of a {rows}x{cols} matrix:\")\n",
    "    matrix = []\n",
    "    for i in range(rows):\n",
    "        row = list(map(int, input(f\"Enter row {i+1} (space-separated): \").split()))\n",
    "        # Ensure row size matches expected column size\n",
    "        while len(row) != cols:\n",
    "            print(f\"Invalid input. Please enter exactly {cols} elements.\")\n",
    "            row = list(map(int, input(f\"Re-enter row {i+1} (space-separated): \").split()))\n",
    "        matrix.append(row)\n",
    "    return matrix\n",
    "\n",
    "def add_matrices(matrix1, matrix2):\n",
    "    \"\"\"Function to add two matrices of the same size\"\"\"\n",
    "    result = []\n",
    "    for i in range(len(matrix1)):\n",
    "        row = [matrix1[i][j] + matrix2[i][j] for j in range(len(matrix1[0]))]\n",
    "        result.append(row)\n",
    "    return result\n",
    "\n",
    "def display_matrix(matrix):\n",
    "    \"\"\"Function to display a matrix\"\"\"\n",
    "    for row in matrix:\n",
    "        print(\" \".join(map(str, row)))\n",
    "\n",
    "# Main program\n",
    "rows = int(input(\"Enter the number of rows: \"))\n",
    "cols = int(input(\"Enter the number of columns: \"))\n",
    "\n",
    "print(\"\\nInput for Matrix 1:\")\n",
    "matrix1 = input_matrix(rows, cols)\n",
    "\n",
    "print(\"\\nInput for Matrix 2:\")\n",
    "matrix2 = input_matrix(rows, cols)\n",
    "\n",
    "result_matrix = add_matrices(matrix1, matrix2)\n",
    "\n",
    "print(\"\\nMatrix 1:\")\n",
    "display_matrix(matrix1)\n",
    "\n",
    "print(\"\\nMatrix 2:\")\n",
    "display_matrix(matrix2)\n",
    "\n",
    "print(\"\\nResultant Matrix after Addition:\")\n",
    "display_matrix(result_matrix)\n"
   ]
  },
  {
   "cell_type": "raw",
   "id": "9013eb84-1fe4-4b8b-a22a-bfa305dcc4dd",
   "metadata": {},
   "source": [
    "10. Write a program to multiply two matrices."
   ]
  },
  {
   "cell_type": "code",
   "execution_count": 9,
   "id": "81075fed-5823-425e-8fc2-eda736253ab8",
   "metadata": {},
   "outputs": [
    {
     "name": "stdout",
     "output_type": "stream",
     "text": [
      "Resultant Matrix:\n",
      "[58, 64]\n",
      "[139, 154]\n"
     ]
    }
   ],
   "source": [
    "# Define two matrices\n",
    "A = [[1, 2, 3],\n",
    "     [4, 5, 6]]\n",
    "\n",
    "B = [[7, 8],\n",
    "     [9, 10],\n",
    "     [11, 12]]\n",
    "\n",
    "\n",
    "result = [[0, 0],\n",
    "          [0, 0]]\n",
    "\n",
    "\n",
    "for i in range(len(A)):  # Iterate through rows of A\n",
    "    for j in range(len(B[0])):  # Iterate through columns of B\n",
    "        for k in range(len(B)):  # Iterate through rows of B\n",
    "            result[i][j] += A[i][k] * B[k][j]\n",
    "\n",
    "# Print the result\n",
    "print(\"Resultant Matrix:\")\n",
    "for row in result:\n",
    "    print(row)\n"
   ]
  },
  {
   "cell_type": "code",
   "execution_count": null,
   "id": "2526a9d3-95bd-4e97-bdaa-fe111400dd0f",
   "metadata": {},
   "outputs": [],
   "source": []
  }
 ],
 "metadata": {
  "kernelspec": {
   "display_name": "Python 3 (ipykernel)",
   "language": "python",
   "name": "python3"
  },
  "language_info": {
   "codemirror_mode": {
    "name": "ipython",
    "version": 3
   },
   "file_extension": ".py",
   "mimetype": "text/x-python",
   "name": "python",
   "nbconvert_exporter": "python",
   "pygments_lexer": "ipython3",
   "version": "3.12.7"
  }
 },
 "nbformat": 4,
 "nbformat_minor": 5
}
