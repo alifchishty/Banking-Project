{
 "cells": [
  {
   "cell_type": "code",
   "execution_count": 17,
   "id": "6b9cfec7-3226-41ac-a7e8-4d2f1f647011",
   "metadata": {},
   "outputs": [
    {
     "name": "stdout",
     "output_type": "stream",
     "text": [
      "\n",
      "Choose an option:\n",
      "1. Create an Account\n",
      "2. Deposit Money\n",
      "3. Withdraw Money\n",
      "4. Display Account Details\n",
      "5. Exit\n"
     ]
    },
    {
     "name": "stdin",
     "output_type": "stream",
     "text": [
      "Enter your choice (1-5):  1\n",
      "Please enter your name:  ali\n"
     ]
    },
    {
     "name": "stdout",
     "output_type": "stream",
     "text": [
      "Congrats, your account has been created!\n",
      "        Account No: 367387\n",
      "        Name of Account Holder: ali\n",
      "        Initial balance is 0, please deposit an amount!\n",
      "\n",
      "Choose an option:\n",
      "1. Create an Account\n",
      "2. Deposit Money\n",
      "3. Withdraw Money\n",
      "4. Display Account Details\n",
      "5. Exit\n"
     ]
    },
    {
     "name": "stdin",
     "output_type": "stream",
     "text": [
      "Enter your choice (1-5):  5\n"
     ]
    },
    {
     "name": "stdout",
     "output_type": "stream",
     "text": [
      "Exiting the program. Goodbye!\n"
     ]
    }
   ],
   "source": [
    "import random\n",
    "\n",
    "class bankaccount():\n",
    "    def __init__(self, account_no, name, balance=0):\n",
    "        self.account_no = account_no\n",
    "        self.name = name\n",
    "        self.balance = balance\n",
    "\n",
    "    def deposit(self, amount):\n",
    "        if amount > 500:\n",
    "            self.balance += amount\n",
    "            print(f'The total deposit amount is {amount} and the new balance is {self.balance}')\n",
    "        else:\n",
    "            print('Sorry, please deposit an amount greater than 500.')\n",
    "\n",
    "    def withdrawal(self, amount):\n",
    "        if amount > 0 and self.balance >= amount:\n",
    "            self.balance -= amount\n",
    "            print(f'The total withdrawal is {amount} and the balance is {self.balance}')\n",
    "        else:\n",
    "            print('Sorry, insufficient funds or invalid amount.')\n",
    "\n",
    "    def checkbalance(self):\n",
    "        print(f'The account number is {self.account_no}, the name of the account holder is {self.name}, and the balance is {self.balance}')\n",
    "\n",
    "    def display_account_details(self):\n",
    "        print(\"\\nAccount Details:\")\n",
    "        print(f\"Account Number: {self.account_no}\")\n",
    "        print(f\"Account Holder: {self.name}\")\n",
    "        print(f\"Balance: {self.balance}\")\n",
    "\n",
    "    @staticmethod\n",
    "    def generate_no():\n",
    "        return str(random.randint(100000, 999999))\n",
    "\n",
    "    @staticmethod\n",
    "    def createaccount():\n",
    "        account_no = bankaccount.generate_no()\n",
    "        name = input('Please enter your name: ')\n",
    "        balance = 0\n",
    "        print(f\"\"\"Congrats, your account has been created!\n",
    "        Account No: {account_no}\n",
    "        Name of Account Holder: {name}\n",
    "        Initial balance is 0, please deposit an amount!\"\"\")\n",
    "        return bankaccount(account_no, name, balance)\n",
    "\n",
    "def main():\n",
    "    account = None \n",
    "    while True:\n",
    "        print(\"\\nChoose an option:\")\n",
    "        print(\"1. Create an Account\")\n",
    "        print(\"2. Deposit Money\")\n",
    "        print(\"3. Withdraw Money\")\n",
    "        print(\"4. Display Account Details\")\n",
    "        print(\"5. Exit\")\n",
    "        \n",
    "        choice = input(\"Enter your choice (1-5): \")\n",
    "        \n",
    "        if choice == \"1\":\n",
    "            account = bankaccount.createaccount()\n",
    "        elif choice == \"2\" and account:\n",
    "            try:\n",
    "                amount = float(input(\"Enter amount to deposit: \"))\n",
    "                account.deposit(amount)\n",
    "            except ValueError:\n",
    "                print(\"Invalid input! Please enter a valid amount.\")\n",
    "        elif choice == \"3\" and account:\n",
    "            try:\n",
    "                amount = float(input(\"Enter amount to withdraw: \"))\n",
    "                account.withdrawal(amount)\n",
    "            except ValueError:\n",
    "                print(\"Invalid input! Please enter a valid amount.\")\n",
    "        elif choice == \"4\" and account:\n",
    "            account.display_account_details()\n",
    "        elif choice == \"5\":\n",
    "            print(\"Exiting the program. Goodbye!\")\n",
    "            break\n",
    "        else:\n",
    "            print(\"Invalid choice or no account created! Please select a valid option.\")\n",
    "\n",
    "if __name__ == \"__main__\":\n",
    "    main()\n"
   ]
  },
  {
   "cell_type": "code",
   "execution_count": null,
   "id": "afecfd41-c616-4a2c-ac25-2f3d6625f9b2",
   "metadata": {},
   "outputs": [],
   "source": []
  }
 ],
 "metadata": {
  "kernelspec": {
   "display_name": "Python 3 (ipykernel)",
   "language": "python",
   "name": "python3"
  },
  "language_info": {
   "codemirror_mode": {
    "name": "ipython",
    "version": 3
   },
   "file_extension": ".py",
   "mimetype": "text/x-python",
   "name": "python",
   "nbconvert_exporter": "python",
   "pygments_lexer": "ipython3",
   "version": "3.12.7"
  }
 },
 "nbformat": 4,
 "nbformat_minor": 5
}
