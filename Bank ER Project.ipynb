import random

class BankAccount:
    def __init__(self, account_no, name, balance=0):
        self.account_no = account_no
        self.name = name
        self.balance = balance

    def deposit(self, amount):
        if amount > 500:
            self.balance += amount
            print(f'Deposited: {amount}, New Balance: {self.balance}')
        else:
            print('Please deposit an amount greater than 500.')

    def withdrawal(self, amount):
        if amount > 0 and self.balance >= amount:
            self.balance -= amount
            print(f'Withdrawn: {amount}, New Balance: {self.balance}')
        else:
            print('Invalid amount or insufficient balance.')

    def display_account_details(self):
        print("\nAccount Details:")
        print(f"Account Number: {self.account_no}")
        print(f"Account Holder: {self.name}")
        print(f"Balance: {self.balance}")

    @staticmethod
    def generate_no():
        return str(random.randint(100000, 999999))

    @staticmethod
    def createaccount():
        account_no = BankAccount.generate_no()
        name = input('Enter your name: ')
        print(f"Account created successfully!")
        print(f"Account No: {account_no}, Name: {name}, Balance: 0")
        return BankAccount(account_no, name)


def find_account_by_number(accounts, account_no):
    for account in accounts:
        if account.account_no == account_no:
            return account
    return None


def admin_login():
    admin_username = "admin"
    admin_password = "admin123"

    print("\nAdmin Login")
    username = input("Enter admin username: ")
    password = input("Enter admin password: ")

    if username == admin_username and password == admin_password:
        print("Admin login successful!")
        return True
    else:
        print("Invalid username or password.")
        return False


def main():
    accounts = []  # List to store all accounts
    admin_logged_in = False

    while True:
        print("\nMenu:")
        print("1. Create Account")
        print("2. Deposit Money")
        print("3. Withdraw Money")
        print("4. Display Account Details")
        print("5. Admin Login")
        print("6. Exit")

        choice = input("Enter your choice (1-6): ")

        if choice == "1":
            account = BankAccount.createaccount()
            accounts.append(account)
        elif choice == "2":
            account_no = input("Enter account number: ")
            account = find_account_by_number(accounts, account_no)
            if account:
                try:
                    amount = float(input("Enter amount to deposit: "))
                    account.deposit(amount)
                except ValueError:
                    print("Invalid input! Please enter a valid numeric amount.")
            else:
                print("Account not found.")
        elif choice == "3":
            account_no = input("Enter account number: ")
            account = find_account_by_number(accounts, account_no)
            if account:
                try:
                    amount = float(input("Enter amount to withdraw: "))
                    account.withdrawal(amount)
                except ValueError:
                    print("Invalid input! Please enter a valid numeric amount.")
            else:
                print("Account not found.")
        elif choice == "4":
            account_no = input("Enter account number: ")
            account = find_account_by_number(accounts, account_no)
            if account:
                account.display_account_details()
            else:
                print("Account not found.")
        elif choice == "5":
            admin_logged_in = admin_login()
            if admin_logged_in:
                print("\nAdmin Actions:")
                print("Total Accounts Created:", len(accounts))
                print("Accounts Details:")
                for acc in accounts:
                    acc.display_account_details()
        elif choice == "6":
            print("Thanks for visiting chamatkar bank, hope to see u soon!")
            break
        else:
            print("Invalid choice! Please enter a number between 1 and 6.")


if __name__ == "__main__":
    main()
