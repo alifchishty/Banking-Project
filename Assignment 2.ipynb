{
 "cells": [
  {
   "cell_type": "raw",
   "id": "718733a7-03cf-4a48-b165-8bbe30f17521",
   "metadata": {},
   "source": [
    "Questions:\n",
    "1) Area of a Rectangle:\n",
    "Write a Python program to calculate the area of a rectangle. Use the formula:\n",
    "𝐴𝒓𝒆𝒂 = 𝒍𝒆𝒏𝒈𝒕𝒉 × 𝒘𝒊𝒅𝒕𝒉\n",
    "Take length and width as inputs from the user"
   ]
  },
  {
   "cell_type": "code",
   "execution_count": 18,
   "id": "944fb5b7-3bc5-4ca4-998c-f3f5cf3fbdd7",
   "metadata": {},
   "outputs": [
    {
     "name": "stdin",
     "output_type": "stream",
     "text": [
      "the length is 10\n",
      "the width is 20\n"
     ]
    }
   ],
   "source": [
    "length= int(input(\"the length is\"))\n",
    "width= int(input(\"the width is\"))"
   ]
  },
  {
   "cell_type": "code",
   "execution_count": 26,
   "id": "1afad4c1-0f8b-43dc-a3a9-a1ddf6708e20",
   "metadata": {},
   "outputs": [
    {
     "name": "stdout",
     "output_type": "stream",
     "text": [
      "the area of rectangle would be 200.\n"
     ]
    }
   ],
   "source": [
    "area = length * width\n",
    "print (f\"the area of rectangle would be {area}.\")"
   ]
  },
  {
   "cell_type": "raw",
   "id": "81f6fbba-1846-47cb-b868-ad317212c9a1",
   "metadata": {},
   "source": [
    "2) Circumference of a Circle:\n",
    "Write a Python program to calculate the circumference of a circle. Use the formula:\n",
    "𝑪𝒊𝒓𝒄𝒖𝒎𝒇𝒆𝒓𝒆𝒏𝒄𝒆 = 𝟐𝝅𝒓\n",
    "Take the radius r as input from the user.\n"
   ]
  },
  {
   "cell_type": "code",
   "execution_count": 50,
   "id": "3f56104b-f453-4e7a-8ddf-1c0f386c6528",
   "metadata": {},
   "outputs": [],
   "source": [
    "import math"
   ]
  },
  {
   "cell_type": "code",
   "execution_count": 32,
   "id": "500e943c-b030-4409-8294-3ee9fa0df6d9",
   "metadata": {},
   "outputs": [
    {
     "name": "stdin",
     "output_type": "stream",
     "text": [
      "the radius is 2\n"
     ]
    }
   ],
   "source": [
    "r = int(input(\"the radius is\"))"
   ]
  },
  {
   "cell_type": "code",
   "execution_count": 52,
   "id": "a9781c3b-c555-4ead-96bc-fa6501649aff",
   "metadata": {},
   "outputs": [
    {
     "data": {
      "text/plain": [
       "3.141592653589793"
      ]
     },
     "execution_count": 52,
     "metadata": {},
     "output_type": "execute_result"
    }
   ],
   "source": [
    "math.pi"
   ]
  },
  {
   "cell_type": "code",
   "execution_count": 80,
   "id": "b322775d-dccc-4a91-9ca7-e06141d5c223",
   "metadata": {},
   "outputs": [
    {
     "name": "stdout",
     "output_type": "stream",
     "text": [
      "the circumference of a circle is 12\n"
     ]
    }
   ],
   "source": [
    "circumference = 2* math.pi *r\n",
    "circumference\n",
    "print(f\"the circumference of a circle is {int(circumference)}\")"
   ]
  },
  {
   "cell_type": "raw",
   "id": "71b48cb9-1151-4055-935f-29132ff0cc73",
   "metadata": {},
   "source": [
    "3) Simple Interest:\n",
    "Write a Python program to calculate the simple interest. Use the formula:\n",
    "𝑺𝒊𝒎𝒑𝒍𝒆 𝑰𝒏𝒕𝒆𝒓𝒆𝒔𝒕 = 𝑷𝒓𝒊𝒏𝒄𝒊𝒑𝒂𝒍 × 𝑹𝒂𝒕𝒆 × 𝑻𝒊𝒎𝒆\n",
    "Take Principal, Rate, and Time as inputs from the user. "
   ]
  },
  {
   "cell_type": "code",
   "execution_count": 82,
   "id": "0db0972c-27ec-4f64-ab64-37534126859a",
   "metadata": {},
   "outputs": [
    {
     "name": "stdin",
     "output_type": "stream",
     "text": [
      "the value of principal is 65\n",
      "the value of rate is 100\n",
      "the value of time is 12\n"
     ]
    }
   ],
   "source": [
    "principal = int(input(\"the value of principal is\"))\n",
    "rate = int(input(\"the value of rate is\"))\n",
    "time = int(input(\"the value of time is\"))"
   ]
  },
  {
   "cell_type": "code",
   "execution_count": 104,
   "id": "043c7cba-73e2-44c2-8f59-dd77410c9ef6",
   "metadata": {},
   "outputs": [
    {
     "name": "stdout",
     "output_type": "stream",
     "text": [
      " the simple interest would be 78000\n"
     ]
    }
   ],
   "source": [
    "simple_interest = principal * rate * time\n",
    "print (f\" the simple interest would be {simple_interest}\")"
   ]
  },
  {
   "cell_type": "raw",
   "id": "8555a404-1262-48c2-83db-19f79809d296",
   "metadata": {},
   "source": [
    "4) Speed of an Object:\n",
    "Write a Python program to calculate the speed of an object. Use the formula:\n",
    "𝑆𝒑𝒆𝒆𝒅 = 𝑫𝒊𝒔𝒕𝒂𝒏𝒄𝒆 / 𝑻𝒊𝒎𝒆\n",
    "Take Distance and Time as inputs from the user. "
   ]
  },
  {
   "cell_type": "code",
   "execution_count": 106,
   "id": "28b2afe5-7bfa-46f6-856f-d617e8728df1",
   "metadata": {},
   "outputs": [
    {
     "name": "stdin",
     "output_type": "stream",
     "text": [
      "the value of distance is 4\n",
      "the value of time is 2\n"
     ]
    }
   ],
   "source": [
    "distance = int(input(\"the value of distance is\"))\n",
    "time = int(input(\"the value of time is\"))"
   ]
  },
  {
   "cell_type": "code",
   "execution_count": 114,
   "id": "9b18bf40-dcf3-404c-aa7d-edca91188b8d",
   "metadata": {},
   "outputs": [
    {
     "name": "stdout",
     "output_type": "stream",
     "text": [
      "the speed of an object would be 2.0.\n"
     ]
    }
   ],
   "source": [
    "speed = distance / time\n",
    "print (f\"the speed of an object would be {speed}.\")"
   ]
  },
  {
   "cell_type": "raw",
   "id": "cb66ec24-012f-4d12-86cd-a7fc436b14f3",
   "metadata": {},
   "source": [
    "5) BMI Calculator:\n",
    "Write a Python program to calculate the Body Mass Index (BMI). Use the formula:\n",
    "BMI = weight(kg) / (height)²\n",
    " Take Weight (in kilograms) and Height (in meters) as inputs from the user. "
   ]
  },
  {
   "cell_type": "code",
   "execution_count": 5,
   "id": "c909ee47-3afd-41b7-83ae-fa411ef69dad",
   "metadata": {},
   "outputs": [
    {
     "name": "stdin",
     "output_type": "stream",
     "text": [
      "the weight is 60\n",
      "the height is 1\n"
     ]
    }
   ],
   "source": [
    "weight_kg = int(input(\"the weight is\"))\n",
    "height_m = int(input(\"the height is\"))\n"
   ]
  },
  {
   "cell_type": "code",
   "execution_count": 15,
   "id": "3b24efa3-df7f-413e-a5aa-a510d830a486",
   "metadata": {},
   "outputs": [
    {
     "name": "stdout",
     "output_type": "stream",
     "text": [
      "the body index (BMI) is 60.0\n"
     ]
    }
   ],
   "source": [
    "BMI = weight_kg/height_m**2\n",
    "print (f\"the body index (BMI) is {BMI}\")"
   ]
  },
  {
   "cell_type": "raw",
   "id": "40086dde-1430-4970-a1ad-e0155f39d493",
   "metadata": {},
   "source": [
    "6) Force Using Newton's Second Law:\n",
    "Write a Python program to calculate the force on an object. Use the formula:\n",
    "f=ma\n",
    "Take m (mass in kilograms) and a (acceleration in meters/second²) as inputs from the\n",
    "user."
   ]
  },
  {
   "cell_type": "code",
   "execution_count": 19,
   "id": "29fd351a-f219-419b-81d8-cd3f15025449",
   "metadata": {},
   "outputs": [
    {
     "name": "stdin",
     "output_type": "stream",
     "text": [
      "the mass is 50\n",
      "the acceleration is 20\n"
     ]
    }
   ],
   "source": [
    "m = int(input(\"the mass is\"))\n",
    "a= int(input(\"the acceleration is\"))"
   ]
  },
  {
   "cell_type": "code",
   "execution_count": 21,
   "id": "991c2039-9b5a-4cfa-9322-ddeaaecfa002",
   "metadata": {},
   "outputs": [],
   "source": [
    "f =m*a"
   ]
  },
  {
   "cell_type": "code",
   "execution_count": 25,
   "id": "3459f1e9-ba01-43e8-b198-49a73623d445",
   "metadata": {},
   "outputs": [
    {
     "name": "stdout",
     "output_type": "stream",
     "text": [
      "the force on a object is 1000\n"
     ]
    }
   ],
   "source": [
    "print (f\"the force on a object is {f}\")"
   ]
  },
  {
   "cell_type": "raw",
   "id": "cd94cf2a-9e27-4d5b-a905-f5db26ac1392",
   "metadata": {},
   "source": [
    "7) Compound Interest:\n",
    "Write a Python program to calculate compound interest. Use the formula:\n",
    "\n",
    "Where:\n",
    "A= total amount\n",
    "P = principal amount\n",
    "r = annual interest rate (decimal)\n",
    "n = number of times interest is compounded per year\n",
    "t = time in years\n",
    "Take P, r, n, and t as inputs from the user"
   ]
  },
  {
   "cell_type": "code",
   "execution_count": 29,
   "id": "8f888766-390f-4db4-b3e3-3bbba996d35e",
   "metadata": {},
   "outputs": [
    {
     "name": "stdin",
     "output_type": "stream",
     "text": [
      "the value of principal amount is 20\n",
      "the value of interest rate is 2.5\n",
      "the number of time compounded by year is 12\n",
      "the time in year is 2\n"
     ]
    }
   ],
   "source": [
    "P = int(input(\"the value of principal amount is\"))\n",
    "r = float(input(\"the value of interest rate is\"))\n",
    "n = int(input(\"the number of time compounded by year is\"))\n",
    "t = int(input(\"the time in year is\"))\n",
    "\n",
    "                 "
   ]
  },
  {
   "cell_type": "code",
   "execution_count": 33,
   "id": "e704bcfb-ca11-47e1-8367-ab654f3b8a0e",
   "metadata": {},
   "outputs": [
    {
     "data": {
      "text/plain": [
       "191.76309813315032"
      ]
     },
     "execution_count": 33,
     "metadata": {},
     "output_type": "execute_result"
    }
   ],
   "source": [
    "A = P*(1+r/n)**n-t\n",
    "A "
   ]
  },
  {
   "cell_type": "code",
   "execution_count": 35,
   "id": "c5eb26cc-188f-4d6a-9b1b-57d00748bb13",
   "metadata": {},
   "outputs": [
    {
     "name": "stdout",
     "output_type": "stream",
     "text": [
      "the total compound intrest is 191.76309813315032\n"
     ]
    }
   ],
   "source": [
    "print (f\"the total compound intrest is {A}\")"
   ]
  },
  {
   "cell_type": "raw",
   "id": "2939e88d-438b-4d0a-8051-9d10cb871ec3",
   "metadata": {},
   "source": [
    "8) Perimeter of a Triangle:\n",
    "Write a Python program to calculate the perimeter of a triangle. Use the formula:\n",
    "𝑷𝒆𝒓𝒊𝒎𝒆𝒕𝒆𝒓 = 𝒂 + 𝒃 + 𝒄\n",
    "Take a, b, and c (lengths of the three sides) as inputs from the user."
   ]
  },
  {
   "cell_type": "code",
   "execution_count": 41,
   "id": "3135963e-26fb-4235-850b-65911b14350a",
   "metadata": {},
   "outputs": [
    {
     "name": "stdin",
     "output_type": "stream",
     "text": [
      "the a side is 22\n",
      "the b side is 23\n",
      "the c side is 24\n"
     ]
    },
    {
     "name": "stdout",
     "output_type": "stream",
     "text": [
      "the perimeter of a triangle is 69.\n"
     ]
    }
   ],
   "source": [
    "a = int(input(\"the a side is\"))\n",
    "b = int(input(\"the b side is\"))\n",
    "c = int(input(\"the c side is\"))\n",
    "perimeter = a+b+c\n",
    "print (f\"the perimeter of a triangle is {perimeter}.\")"
   ]
  },
  {
   "cell_type": "raw",
   "id": "e2ff5c22-2d5e-4ed8-9534-a8e59979435e",
   "metadata": {},
   "source": [
    "9) Volume of a Sphere:\n",
    "Write a Python program to calculate the volume of a sphere. Use the formula:\n",
    "Take r (radius) as input from the user. "
   ]
  },
  {
   "cell_type": "code",
   "execution_count": 43,
   "id": "bba900fa-fcc4-4786-85aa-5dae4237429c",
   "metadata": {},
   "outputs": [
    {
     "name": "stdin",
     "output_type": "stream",
     "text": [
      "the radius is 5\n"
     ]
    }
   ],
   "source": [
    "r = int(input(\"the radius is\"))"
   ]
  },
  {
   "cell_type": "code",
   "execution_count": 47,
   "id": "551bfe1c-5bbc-4b44-9ffb-44f00e4a66d4",
   "metadata": {},
   "outputs": [],
   "source": [
    "import math"
   ]
  },
  {
   "cell_type": "code",
   "execution_count": 53,
   "id": "4fa1f248-91b2-45fd-a17a-e1262d288c79",
   "metadata": {},
   "outputs": [],
   "source": [
    "volume = 4/3*math.pi*r**3"
   ]
  },
  {
   "cell_type": "code",
   "execution_count": 57,
   "id": "9b78aae3-c74d-48fd-8d59-2774126789bc",
   "metadata": {},
   "outputs": [
    {
     "name": "stdout",
     "output_type": "stream",
     "text": [
      "the volume of sphere is 523.5987755982989\n"
     ]
    }
   ],
   "source": [
    "print (f\"the volume of sphere is {volume}\")"
   ]
  },
  {
   "cell_type": "raw",
   "id": "7a6d8989-270c-4925-bbe0-d01461fd9558",
   "metadata": {},
   "source": [
    "10) Kinetic Energy:\n",
    "Write a Python program to calculate the kinetic energy of an object. Use the formula:\n",
    "Take m (mass in kilograms) and v (velocity in meters/second) as inputs from the user."
   ]
  },
  {
   "cell_type": "code",
   "execution_count": 3,
   "id": "5604be33-696e-4f4f-8381-3a24d129b57b",
   "metadata": {},
   "outputs": [
    {
     "name": "stdin",
     "output_type": "stream",
     "text": [
      "the mass in kg is 20\n",
      "the velocity in meter per second is 30\n"
     ]
    }
   ],
   "source": [
    "m = int(input(\"the mass in kg is\"))\n",
    "v = int(input(\"the velocity in meter per second is\"))\n"
   ]
  },
  {
   "cell_type": "code",
   "execution_count": 5,
   "id": "52237e85-0ea2-42a8-a712-8aba78c5399a",
   "metadata": {},
   "outputs": [
    {
     "name": "stdout",
     "output_type": "stream",
     "text": [
      "the kinectic energy is 9000.0\n"
     ]
    }
   ],
   "source": [
    "\n",
    "KE = 1/2*m*v**2\n",
    "print (f\"the kinectic energy is {KE}\")"
   ]
  },
  {
   "cell_type": "raw",
   "id": "434aca7c-9508-4ad1-bf2c-c5e664a29436",
   "metadata": {},
   "source": [
    "12) Temperature Conversion:\n",
    "Write a Python program to convert a temperature from Celsius to Fahrenheit. Use the\n",
    "formula:\n",
    "Take C (temperature in Celsius) as input from the user. "
   ]
  },
  {
   "cell_type": "code",
   "execution_count": 7,
   "id": "af502b36-6f32-4a5a-b609-99ce4c47a61b",
   "metadata": {},
   "outputs": [
    {
     "name": "stdin",
     "output_type": "stream",
     "text": [
      "the temperature as in c is 30\n"
     ]
    }
   ],
   "source": [
    "c = int(input(\"the temperature as in c is\"))"
   ]
  },
  {
   "cell_type": "code",
   "execution_count": 21,
   "id": "a885e061-f32d-43f1-9c42-d2bd5323d992",
   "metadata": {},
   "outputs": [
    {
     "name": "stdout",
     "output_type": "stream",
     "text": [
      "the temperature from celcius to fahrenheit is 86.0 f .\n"
     ]
    }
   ],
   "source": [
    "f = 9/5*30+32\n",
    "f\n",
    "print (f\"the temperature from celcius to fahrenheit is {f} f .\")"
   ]
  },
  {
   "cell_type": "raw",
   "id": "0cf0ecb2-e7b5-40e7-beaa-e928437f7c56",
   "metadata": {},
   "source": [
    "13) Gravitational Force:\n",
    "Write a Python program to calculate the gravitational force between two objects. Use\n",
    "the formula\n",
    "𝑭 = 𝑮*𝒎𝟏 ∗ 𝒎𝟐/𝒓**2\n",
    "m1, m2 are the masses of the objects\n",
    "r = distance between the centers of the objects\n",
    "Take m1, m2 and r as inputs from the user.\n"
   ]
  },
  {
   "cell_type": "code",
   "execution_count": 47,
   "id": "c18b56ae-21a4-4a98-a3bb-5e2643c924e0",
   "metadata": {},
   "outputs": [
    {
     "name": "stdin",
     "output_type": "stream",
     "text": [
      "the body mass of object 1 is 5000000\n",
      "the body mass of object 2 is 6000000\n",
      "the radius is 10\n"
     ]
    }
   ],
   "source": [
    "m1 = int(input(\"the body mass of object 1 is\"))\n",
    "m2 = int(input(\"the body mass of object 2 is\"))\n",
    "r = int(input(\"the radius is\"))\n",
    "g = 6.673*(10**-11)"
   ]
  },
  {
   "cell_type": "code",
   "execution_count": 53,
   "id": "be9238fd-2b9e-4871-9e3c-2d08b48ea7ac",
   "metadata": {},
   "outputs": [
    {
     "name": "stdout",
     "output_type": "stream",
     "text": [
      "the gravitational force between two objects is 20 N\n"
     ]
    }
   ],
   "source": [
    "f =  g*m1*m2/r**2\n",
    "print (f\"the gravitational force between two objects is {int(f)} N\")"
   ]
  },
  {
   "cell_type": "raw",
   "id": "4b27098f-273b-4c34-98e7-baf9e50399f2",
   "metadata": {},
   "source": [
    "14) Volume of a Cylinder:\n",
    "Write a Python program to calculate the volume of a cylinder. Use the formula:\n",
    "𝑽𝒐𝒍𝒖𝒎𝒆 = 𝝅𝒓𝟐𝒉\n",
    "Take radius(r) and height(h) as inputs from the user"
   ]
  },
  {
   "cell_type": "code",
   "execution_count": 75,
   "id": "ebdb8679-cbb7-4a0b-a184-624417ce3a96",
   "metadata": {},
   "outputs": [
    {
     "name": "stdin",
     "output_type": "stream",
     "text": [
      "the radius is 20\n",
      "the height is 30\n"
     ]
    }
   ],
   "source": [
    "r = int(input(\"the radius is\"))\n",
    "h = int(input(\"the height is\"))"
   ]
  },
  {
   "cell_type": "code",
   "execution_count": 77,
   "id": "b12c2e24-d587-4eee-b049-46193da777b2",
   "metadata": {},
   "outputs": [],
   "source": [
    "import math"
   ]
  },
  {
   "cell_type": "code",
   "execution_count": 81,
   "id": "9ad786f5-38ae-4e0f-922b-7f4b336f41fd",
   "metadata": {},
   "outputs": [
    {
     "name": "stdout",
     "output_type": "stream",
     "text": [
      "the volume of a cylinder is 37699V\n"
     ]
    }
   ],
   "source": [
    "volume = math.pi*r**2*h\n",
    "print(f\"the volume of a cylinder is {int(volume)}V\")"
   ]
  },
  {
   "cell_type": "raw",
   "id": "d2317dca-de70-43cb-a995-57ac852a04aa",
   "metadata": {},
   "source": [
    "15) Pressure:\n",
    "Write a Python program to calculate the pressure exerted by a force on a surface. Use\n",
    "the formula:\n",
    "𝑷 = 𝑭/𝑨\n",
    "P = pressure\n",
    "F = force\n",
    "A = area\n",
    "Take F(force) and A(area) as inputs from the user"
   ]
  },
  {
   "cell_type": "code",
   "execution_count": 83,
   "id": "9b54aae9-3f1d-4e9f-a5fe-bbd335342edd",
   "metadata": {},
   "outputs": [
    {
     "name": "stdin",
     "output_type": "stream",
     "text": [
      "the force is 200\n",
      "the area is 300\n"
     ]
    },
    {
     "name": "stdout",
     "output_type": "stream",
     "text": [
      "the pressure exerted by a force on a surface is 0.6666666666666666\n"
     ]
    }
   ],
   "source": [
    "F = int(input(\"the force is\"))\n",
    "A= int(input(\"the area is\"))\n",
    "P = F/A\n",
    "print (f\"the pressure exerted by a force on a surface is {P}\")"
   ]
  },
  {
   "cell_type": "raw",
   "id": "8bc2266c-e9b0-4988-8796-04460919c5e3",
   "metadata": {},
   "source": [
    "16) Electric Power:\n",
    "Write a Python program to calculate the electric power consumed. Use the formula:\n",
    "P =V/I\n",
    "where:\n",
    "P = power\n",
    "V = voltage\n",
    "I = current\n",
    "Take V(voltage) and I(current) as inputs from the user."
   ]
  },
  {
   "cell_type": "code",
   "execution_count": 85,
   "id": "17436a3c-7b36-4d5c-8c7b-9c727ab5581c",
   "metadata": {},
   "outputs": [
    {
     "name": "stdin",
     "output_type": "stream",
     "text": [
      "the voltage is 60\n",
      "the current is 160\n"
     ]
    },
    {
     "name": "stdout",
     "output_type": "stream",
     "text": [
      "the electric power consumed is 0.375\n"
     ]
    }
   ],
   "source": [
    "v = int(input(\"the voltage is\"))\n",
    "i = int(input(\"the current is\"))\n",
    "p =v/i\n",
    "print (f\"the electric power consumed is {p}\")"
   ]
  },
  {
   "cell_type": "raw",
   "id": "ea3221d6-926b-4640-8aaa-ab6126b1d1c0",
   "metadata": {},
   "source": [
    "17) Perimeter of a Circle (Circumference):\n",
    "Write a Python program to calculate the perimeter (circumference) of a circle. Use the\n",
    "formula: p=2pie*r\n",
    "Take r (radius) as input from the user"
   ]
  },
  {
   "cell_type": "code",
   "execution_count": 87,
   "id": "be387dca-96e1-4d80-8ca8-313294c02cc2",
   "metadata": {},
   "outputs": [
    {
     "name": "stdin",
     "output_type": "stream",
     "text": [
      "the radius is 7\n"
     ]
    }
   ],
   "source": [
    "r = int(input(\"the radius is\"))\n",
    "import math"
   ]
  },
  {
   "cell_type": "code",
   "execution_count": 89,
   "id": "dad44c8c-28a9-4c4d-b605-2cef0fb064de",
   "metadata": {},
   "outputs": [
    {
     "name": "stdout",
     "output_type": "stream",
     "text": [
      "the perimeter of a circle is 43.982297150257104\n"
     ]
    }
   ],
   "source": [
    "p = 2*math.pi*r\n",
    "print (f\"the perimeter of a circle is {p}\")"
   ]
  },
  {
   "cell_type": "raw",
   "id": "31a87b05-6adf-4156-b037-a775a4b2f98d",
   "metadata": {},
   "source": [
    "18) Future Value in Savings:\n",
    "Write a Python program to calculate the future value of an investment. Use the formula:\n",
    "𝐹𝑉 = 𝑃𝑉(1 + 𝑟)*t\n",
    "where:\n",
    "o FV= future value\n",
    "o PV= present value\n",
    "o r= annual interest rate (as a decimal)\n",
    "o t= time in years\n",
    "Take PV, r, and t as inputs from the user"
   ]
  },
  {
   "cell_type": "code",
   "execution_count": 101,
   "id": "6f86e7a0-48d1-4ecf-8162-b06adbb9de89",
   "metadata": {},
   "outputs": [
    {
     "name": "stdin",
     "output_type": "stream",
     "text": [
      "the present value is 2000\n",
      "the radius is 2\n",
      "the time in years is 5\n"
     ]
    },
    {
     "name": "stdout",
     "output_type": "stream",
     "text": [
      "the future value of an investment is 486000 USD\n"
     ]
    }
   ],
   "source": [
    "PV = int (input(\"the present value is\"))\n",
    "r = int(input(\"the radius is\"))\n",
    "t = int(input(\"the time in years is\"))\n",
    "FV = PV*(1+r)**t\n",
    "print (f\"the future value of an investment is {FV} USD\")"
   ]
  },
  {
   "cell_type": "raw",
   "id": "5f5b33f2-d3a8-41ef-b291-cb713c8580ef",
   "metadata": {},
   "source": [
    "19) Work Done by a Force:\n",
    "Write a Python program to calculate the work done by a force. Use the formula:\n",
    "w = f.d*cos(0)\n",
    "where:\n",
    "W = work done\n",
    "f= force\n",
    "d = distance\n",
    "theta = angle between force and direction of movement (in degrees)\n",
    "Take f, d, and θ as inputs from the user."
   ]
  },
  {
   "cell_type": "code",
   "execution_count": 115,
   "id": "bfff0d39-7ac3-467d-ba85-33b85a4da7ac",
   "metadata": {},
   "outputs": [],
   "source": [
    "import math"
   ]
  },
  {
   "cell_type": "code",
   "execution_count": 161,
   "id": "04afb280-1dcb-472a-b48a-676b80cd36bf",
   "metadata": {},
   "outputs": [
    {
     "name": "stdin",
     "output_type": "stream",
     "text": [
      "the workdone is  1000\n",
      "the distance (km) is 30\n",
      "the angle in degrees is 20\n"
     ]
    }
   ],
   "source": [
    "f = float(input(\"the workdone is \"))\n",
    "d = float(input(\"the distance (km) is\"))\n",
    "theta = float(input(\"the angle in degrees is\"))"
   ]
  },
  {
   "cell_type": "code",
   "execution_count": 165,
   "id": "d68dbd68-0443-4cc5-8d05-cb1b41996d53",
   "metadata": {},
   "outputs": [
    {
     "name": "stdout",
     "output_type": "stream",
     "text": [
      "the work done by a force is 28190.778623577255 joules\n"
     ]
    }
   ],
   "source": [
    " w = f*d*math.cos(math.radians(theta))\n",
    "print (f\"the work done by a force is {w} joules\")"
   ]
  },
  {
   "cell_type": "raw",
   "id": "78d4ca7e-a41a-40c5-9abc-82160d94f1cd",
   "metadata": {},
   "source": [
    "20) Heat Transfer:\n",
    "Write a Python program to calculate the amount of heat transferred. Use the formula:\n",
    "𝑄 = 𝑚𝑐 (∆T)\n",
    "where:\n",
    "Q= heat transfer\n",
    "m = mass\n",
    "c = specific heat capacity\n",
    "ΔT\n",
    "Take m, c, T as inputs from the user."
   ]
  },
  {
   "cell_type": "code",
   "execution_count": 137,
   "id": "3858c2ce-04e5-41ca-8178-94051d0e73e5",
   "metadata": {},
   "outputs": [
    {
     "name": "stdin",
     "output_type": "stream",
     "text": [
      "the mass of a substance is kg: 80\n",
      "the specific heat capacity is C 20\n",
      "the initial temp is 10\n",
      "the final temp is 80\n"
     ]
    }
   ],
   "source": [
    "m = int(input(\"the mass of a substance is kg:\"))\n",
    "c = int(input(\"the specific heat capacity is C\"))\n",
    "initial_temp = int(input(\"the initial temp is\"))\n",
    "final_temp = int(input(\"the final temp is\"))\n"
   ]
  },
  {
   "cell_type": "code",
   "execution_count": 143,
   "id": "21c20b85-4c24-4c0f-bcd0-ad43798db811",
   "metadata": {},
   "outputs": [],
   "source": [
    " ΔT = final_temp-initial_temp"
   ]
  },
  {
   "cell_type": "code",
   "execution_count": 145,
   "id": "9fe8696c-92dc-4a90-a5a6-4dac638053c8",
   "metadata": {},
   "outputs": [
    {
     "name": "stdout",
     "output_type": "stream",
     "text": [
      "the amount of heat transferred is C 112000\n"
     ]
    }
   ],
   "source": [
    "Q = m*c*(ΔT)\n",
    "print (f\"the amount of heat transferred is C {Q}\")"
   ]
  },
  {
   "cell_type": "code",
   "execution_count": null,
   "id": "ea23f185-96e8-4206-8e0f-d0fc45f7934a",
   "metadata": {},
   "outputs": [],
   "source": []
  },
  {
   "cell_type": "code",
   "execution_count": null,
   "id": "caf3c115-c9f9-43ba-94c0-0a749e224382",
   "metadata": {},
   "outputs": [],
   "source": []
  }
 ],
 "metadata": {
  "kernelspec": {
   "display_name": "Python 3 (ipykernel)",
   "language": "python",
   "name": "python3"
  },
  "language_info": {
   "codemirror_mode": {
    "name": "ipython",
    "version": 3
   },
   "file_extension": ".py",
   "mimetype": "text/x-python",
   "name": "python",
   "nbconvert_exporter": "python",
   "pygments_lexer": "ipython3",
   "version": "3.12.7"
  }
 },
 "nbformat": 4,
 "nbformat_minor": 5
}
