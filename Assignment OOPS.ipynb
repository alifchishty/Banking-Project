{
 "cells": [
  {
   "cell_type": "raw",
   "id": "7a2aa57c-ed74-4212-a836-bbce4d12f696",
   "metadata": {},
   "source": [
    "1. Write a Python program to create a class called \"Person\" with properties for\n",
    "name, age and country. Include a method to display the person's details. Create\n",
    "two instances of the 'Person' class and display their details. \n"
   ]
  },
  {
   "cell_type": "code",
   "execution_count": 1,
   "id": "5b5b3094-3b54-4888-98da-8f0b56c6024c",
   "metadata": {},
   "outputs": [
    {
     "name": "stdout",
     "output_type": "stream",
     "text": [
      "The person name Ali, aged 28 belongs to Pakistan\n",
      "The person name Asim, aged 27 belongs to Ethopia\n"
     ]
    }
   ],
   "source": [
    "class person():\n",
    "    def __init__(self,name,age,country):\n",
    "        self.name = name\n",
    "        self.age = age\n",
    "        self.country = country\n",
    "    def display_details(self):\n",
    "        print (f'The person name {self.name}, aged {self.age} belongs to {self.country}')\n",
    "person1 = person('Ali', 28, 'Pakistan')\n",
    "person2 = person('Asim',27, 'Ethopia')\n",
    "\n",
    "person1.display_details()\n",
    "person2.display_details()"
   ]
  },
  {
   "cell_type": "raw",
   "id": "3ef74457-8554-47c1-ba6c-79645204507a",
   "metadata": {},
   "source": [
    "2. Write a Python program to create a class called 'Rectangle' with properties for\n",
    "width and height. Include two methods to calculate rectangle area and perimeter.\n",
    "Create an instance of the 'Rectangle' class and calculate its area and perimeter."
   ]
  },
  {
   "cell_type": "code",
   "execution_count": 2,
   "id": "f817be12-cf20-49e4-b322-7a5cfd89a22b",
   "metadata": {},
   "outputs": [
    {
     "name": "stdout",
     "output_type": "stream",
     "text": [
      "the area and perimeter of rectangle respectively 4 and 8\n"
     ]
    }
   ],
   "source": [
    "\n",
    "class rectangle():\n",
    "    def __init__(self,width, height):\n",
    "        self.width = width\n",
    "        self.height = height\n",
    "    def display(self):\n",
    "        print (f'the area and perimeter of rectangle respectively {self.width*self.height} and {2*(self.width*self.height)}')\n",
    "rectangle1 = rectangle(2,2)\n",
    "rectangle1.display()\n",
    "    "
   ]
  },
  {
   "cell_type": "raw",
   "id": "742fa0d9-9b2b-4842-b091-de291556d671",
   "metadata": {},
   "source": [
    "3. Write a Python program that creates a class called 'Vehicle' with properties for\n",
    "make, model, and year. Include a method to display vehicle details. Create a\n",
    "subclass called 'Car' that inherits from the 'Vehicle' class and includes an\n",
    "additional property for the number of doors. Override the display method to\n",
    "include the number of doors. "
   ]
  },
  {
   "cell_type": "code",
   "execution_count": 3,
   "id": "c5021f07-50bc-4340-a4ae-d0b4ff4169ec",
   "metadata": {},
   "outputs": [
    {
     "name": "stdout",
     "output_type": "stream",
     "text": [
      "the make of the car is toyota, the model is civic and the year of the vehicle is 2024\n"
     ]
    }
   ],
   "source": [
    "class vehicle():\n",
    "    def __init__(self,make,model,year):\n",
    "        self.make = make\n",
    "        self.model = model\n",
    "        self.year = year\n",
    "    def displayvehicle(self):\n",
    "        print (f'the make of the car is {self.make}, the model is {self.model} and the year of the vehicle is {self.year}')\n",
    "car = vehicle('toyota','civic',2024)\n",
    "car.displayvehicle()"
   ]
  },
  {
   "cell_type": "code",
   "execution_count": 4,
   "id": "45b0b3dd-fe0e-4e46-9c86-1e0f05f7b2a3",
   "metadata": {},
   "outputs": [
    {
     "name": "stdout",
     "output_type": "stream",
     "text": [
      "the make of the car is toyota, the model is civic and the year of the vehicle is 2024\n",
      "the doors of the car are 4\n"
     ]
    }
   ],
   "source": [
    "class extra(vehicle):\n",
    "    def __init__(self,make,model,year,doors):\n",
    "        super().__init__(make,model,year)\n",
    "        self.doors = doors\n",
    "    def displayseats(self):\n",
    "        print (f'the doors of the car are {self.doors}')\n",
    "carextra = extra('toyota','civic',2024,4)\n",
    "car = vehicle('toyota','civic',2024)\n",
    "car.displayvehicle()\n",
    "carextra.displayseats()\n",
    "\n"
   ]
  },
  {
   "cell_type": "raw",
   "id": "dae51563-c321-4426-83e9-611b50f357cd",
   "metadata": {},
   "source": [
    "4. Write a Python program that creates a class called \"BankAccount\" with\n",
    "properties for account number and balance. Include methods to deposit and\n",
    "withdraw money from the account. Create some instances of the \"BankAccount\"\n",
    "class, deposit some money, and withdraw a portion of it."
   ]
  },
  {
   "cell_type": "code",
   "execution_count": 5,
   "id": "a8a5aa5d-094b-4802-9acc-a9a12a7b2b16",
   "metadata": {},
   "outputs": [
    {
     "name": "stdout",
     "output_type": "stream",
     "text": [
      "the account no is 21234567, the balance is Rs.5000, the withdraw amount is Rs.200 and the deposit is Rs.500\n"
     ]
    }
   ],
   "source": [
    "class bankaccount():\n",
    "    def __init__(self,accno,balance,withdraw,deposit):\n",
    "        self.accno = accno\n",
    "        self.balance = balance\n",
    "        self.withdraw = withdraw\n",
    "        self.deposit = deposit\n",
    "    def displayaccount(self):\n",
    "        print (f'the account no is {self.accno}, the balance is Rs.{self.balance}, the withdraw amount is Rs.{self.withdraw} and the deposit is Rs.{self.deposit}')\n",
    "account = bankaccount(21234567,5000,200,500)\n",
    "account.displayaccount()"
   ]
  },
  {
   "cell_type": "raw",
   "id": "e9fee500-5dd6-4b18-b5e0-8c129ceddef1",
   "metadata": {},
   "source": [
    "5. Write a Python program that creates a class called 'Shape' with a method to\n",
    "calculate the area. Create two subclasses, 'Circle' and 'Triangle', that inherit from\n",
    "the 'Shape' class and override the area calculation method. Create an instance of\n",
    "the 'Circle' class and calculate its area. Similarly, do the same for the 'Triangle'\n",
    "class"
   ]
  },
  {
   "cell_type": "code",
   "execution_count": 6,
   "id": "f149f25d-4402-44ab-acdc-292972eec2ed",
   "metadata": {},
   "outputs": [
    {
     "name": "stdout",
     "output_type": "stream",
     "text": [
      " the circle area: 153.93804002589985\n",
      "the triangle area: 4.0\n"
     ]
    }
   ],
   "source": [
    "import math\n",
    "class shape():\n",
    "    def __init__(self,width,height):\n",
    "        self.width = width\n",
    "        self.height = height\n",
    "    def area(self):\n",
    "        return f'{self.width}*{self.height}'\n",
    "class circle(shape):\n",
    "    def __init__ (self,radius):\n",
    "        self.radius = radius\n",
    "    def area(self):\n",
    "        return math.pi * (self.radius ** 2)\n",
    "class triangle(shape):\n",
    "    def __init__(self,base,height):\n",
    "        self.base = base\n",
    "        self.height = height\n",
    "    def area(self):\n",
    "        return 0.5*self.base*self.height\n",
    "circle1 = circle(7)\n",
    "print (f' the circle area: {circle1.area()}')\n",
    "\n",
    "triangle1 = triangle(2,4)\n",
    "print (f'the triangle area: {triangle1.area()}')\n",
    "    \n",
    "        \n",
    "        "
   ]
  },
  {
   "cell_type": "raw",
   "id": "64165d59-2b84-4dca-be4f-fc9a3a1bc4a3",
   "metadata": {},
   "source": [
    "6. Write a Python program that creates a class called 'Employee' with properties\n",
    "for name and salary. Include a method to calculate annual salary. Create a\n",
    "subclass called 'Manager' that inherits from the 'Employee' class and adds an\n",
    "additional property for department. Override the annual salary calculation method\n",
    "to include bonuses for managers. Create two instances of the 'Manager' class\n",
    "and calculate their annual salary."
   ]
  },
  {
   "cell_type": "code",
   "execution_count": 7,
   "id": "0fe85ef6-0315-4e78-ba56-d982dd0f30f7",
   "metadata": {},
   "outputs": [
    {
     "name": "stdout",
     "output_type": "stream",
     "text": [
      "the name of employee is Ali, salary 2000 and annual salary is 24000\n",
      "the name of employee is Shawn, the salary is 10000 and the bonus salary annually is 22000.0\n"
     ]
    }
   ],
   "source": [
    "class Employee():\n",
    "    def __init__(self,name,salary):\n",
    "        self.name = name\n",
    "        self.salary = salary\n",
    "    def annualsalary (self):\n",
    "        return self.salary*12\n",
    "        \n",
    "    def display(self):\n",
    "        annual_salary = self.annualsalary\n",
    "        print (f'the name of employee is {self.name}, salary {self.salary} and annual salary is {annual_salary()}')\n",
    "employees = Employee('Ali', 2000)\n",
    "employees.display()\n",
    "\n",
    "class Manager(Employee):\n",
    "    def __init__(self,name,salary,department):\n",
    "        super().__init__(name,salary)\n",
    "        self.department = department\n",
    "    def annualsalary (self):\n",
    "        bonus = self.salary*12*0.10\n",
    "        return self.salary+bonus\n",
    "    def display(self):\n",
    "        bonus_salary = self.annualsalary\n",
    "        print (f'the name of employee is {self.name}, the salary is {self.salary} and the bonus salary annually is {bonus_salary()}')\n",
    "\n",
    "manager1 = Manager('Shawn', 10000, 'IT')\n",
    "manager2 = Manager('Simon', 20000, 'IT')\n",
    "\n",
    "manager1.display()\n",
    "\n"
   ]
  },
  {
   "cell_type": "raw",
   "id": "725e176a-3c15-4cdb-880b-65401b2b3e26",
   "metadata": {},
   "source": [
    "7. Write a Python program that creates a class `Book` with properties for title,\n",
    "author, and publication year. Include a method to display book details. Create a\n",
    "subclass called 'Ebook' that inherits from the 'Book' class and includes an\n",
    "additional property for book price. Override the display method to include the\n",
    "book price. Create an instance of the 'Ebook' class and display its details. "
   ]
  },
  {
   "cell_type": "code",
   "execution_count": 13,
   "id": "95300c8b-c1ed-4c9f-9fb3-eb91c75150b2",
   "metadata": {},
   "outputs": [
    {
     "name": "stdout",
     "output_type": "stream",
     "text": [
      "the title of the book is Lone Warrior, the name of the Author is Ali, and the publishing year 2025\n",
      "the title of the book is Lone Warrior,\n",
      "the name of the Author is Ali,\n",
      "and the publishing year 2025\n",
      "the price of the book is 500\n"
     ]
    }
   ],
   "source": [
    "class Book():\n",
    "    def __init__ (self,title,author,publicationyear):\n",
    "        self.title = title\n",
    "        self.author = author\n",
    "        self.publicationyear = publicationyear\n",
    "\n",
    "    def display(self):\n",
    "        print (f'the title of the book is {self.title}, the name of the Author is {self.author}, and the publishing year {self.publicationyear}')\n",
    "\n",
    "book1 = Book('Lone Warrior', 'Ali', 2025)\n",
    "book1.display()\n",
    "\n",
    "class ebook(Book):\n",
    "    def __init__(self,title,author,publicationyear,bookprice):\n",
    "        super().__init__(title,author,publicationyear)\n",
    "        self.bookprice = bookprice\n",
    "\n",
    "    def display(self):\n",
    "        print (f\"\"\"the title of the book is {self.title},\n",
    "the name of the Author is {self.author},\n",
    "and the publishing year {self.publicationyear}\n",
    "the price of the book is {self.bookprice}\"\"\")\n",
    "\n",
    "ebook1 = ebook('Lone Warrior', 'Ali', 2025, 500)\n",
    "ebook1.display()\n",
    "        "
   ]
  },
  {
   "cell_type": "raw",
   "id": "702c1e62-5eea-40ee-8efa-7231325e9c25",
   "metadata": {},
   "source": [
    "8. Write a Python program that creates a class called 'Animal' with properties for\n",
    "species and sound. Include a method to make the animal's sound. Create a\n",
    "subclass called 'Dog' that inherits from the 'Animal' class and adds an additional\n",
    "property for color. Override the make sound method to include the dog's color.\n",
    "Create an instance of the 'Dog' class and make it make its sound. \n"
   ]
  },
  {
   "cell_type": "code",
   "execution_count": 1,
   "id": "a8aa6907-5a54-4b1f-9e30-39bcb1d53c06",
   "metadata": {},
   "outputs": [
    {
     "name": "stdout",
     "output_type": "stream",
     "text": [
      " the dog bulldog, making a sound woof and the color of the dog is brown\n"
     ]
    }
   ],
   "source": [
    "class Animal():\n",
    "    def __init__ (self,species,sound):\n",
    "        self.species = species\n",
    "        self.sound = sound\n",
    "\n",
    "    def soundmethod (self):\n",
    "        print (f'woooooooooof')\n",
    "\n",
    "class Dog(Animal):\n",
    "    def __init__(self,species,sound,color):\n",
    "        super().__init__(species,sound)\n",
    "        self.color = color\n",
    "\n",
    "    def soundmethod (self):\n",
    "        print (f' the dog {self.species}, making a sound {self.sound} and the color of the dog is {self.color}')\n",
    "\n",
    "dog1 = Dog('bulldog', 'woof', 'brown')\n",
    "\n",
    "dog1.soundmethod()\n",
    "        "
   ]
  },
  {
   "cell_type": "raw",
   "id": "0b6bc0ac-e281-489e-af14-c0b57e2962b4",
   "metadata": {},
   "source": [
    "9. Write a Python program that creates a class called Bank with properties for\n",
    "bank names and branches. Include methods to add a branch, remove a branch,\n",
    "and display all branches. Create an instance of the Bank class and perform\n",
    "operations to add and remove branches. "
   ]
  },
  {
   "cell_type": "code",
   "execution_count": 4,
   "id": "22717b6b-593a-4a54-865f-4a1e3142330d",
   "metadata": {},
   "outputs": [
    {
     "name": "stdout",
     "output_type": "stream",
     "text": [
      "Branch 'PIB' added.\n",
      "Branch 'Khi' added.\n",
      "Branch 'Khi' removed.\n",
      "The bank name is HBL and the branches of the bank are: ['PIB']\n"
     ]
    }
   ],
   "source": [
    "class Bank:\n",
    "    def __init__(self, name):\n",
    "        \"\"\"Initialize the bank with a name and an empty branch list.\"\"\"\n",
    "        self.name = name\n",
    "        self.branches = []\n",
    "\n",
    "    def add_branch(self, branch_name):\n",
    "        \"\"\"Add a new branch to the bank.\"\"\"\n",
    "        self.branches.append(branch_name)\n",
    "        print(f\"Branch '{branch_name}' added.\")\n",
    "\n",
    "    def remove_branch(self, branch_name):\n",
    "        \"\"\"Remove a branch from the bank.\"\"\"\n",
    "        if branch_name in self.branches:\n",
    "            self.branches.remove(branch_name)\n",
    "            print(f\"Branch '{branch_name}' removed.\")\n",
    "        else:\n",
    "            print(f\"Branch '{branch_name}' not found.\")\n",
    "\n",
    "# Create an instance of the Bank class\n",
    "bank1 = Bank(\"HBL\")\n",
    "\n",
    "# Add branches\n",
    "bank1.add_branch(\"PIB\")\n",
    "bank1.add_branch(\"Khi\")\n",
    "\n",
    "# Remove a branch\n",
    "bank1.remove_branch(\"Khi\")\n",
    "\n",
    "# Display the results\n",
    "print(f\"The bank name is {bank1.name} and the branches of the bank are: {bank1.branches}\")\n"
   ]
  },
  {
   "cell_type": "raw",
   "id": "0ec6138c-6351-4e75-838c-6928cb376827",
   "metadata": {},
   "source": [
    "10. Write a Python program that creates a class called Product with properties for\n",
    "product ID, name, and price. Include a method to calculate the total price by\n",
    "multiplying the price by the quantity. Create a subclass called\n",
    "PersonalCareProduct that inherits from the Product class and adds an additional\n",
    "property for the warranty period. Override the total price calculation method to\n",
    "include the warranty period. Create an instance of the PersonalCareProduct\n",
    "class and calculate its total price."
   ]
  },
  {
   "cell_type": "code",
   "execution_count": 6,
   "id": "f61da270-2d43-4472-b1c2-818ea68cb1b6",
   "metadata": {},
   "outputs": [
    {
     "name": "stdout",
     "output_type": "stream",
     "text": [
      "Product ID: 2215\n",
      "Product Name: M&Ms\n",
      "Price per Unit: 2000\n",
      "your total price is 4000\n",
      "4000. The warranty period is 2 years\n"
     ]
    }
   ],
   "source": [
    "class Product():\n",
    "    def __init__(self,ID,name,price):\n",
    "        self.ID = ID\n",
    "        self.name = name\n",
    "        self.price = price\n",
    "\n",
    "    def calculator(self,quantity):\n",
    "        totalprice = self.price*quantity\n",
    "        print (f'your total price is {totalprice}')\n",
    "        return totalprice\n",
    "\n",
    "class PCD(Product):\n",
    "    def __init__(self,ID,name,price,warranty):\n",
    "        super().__init__(ID,name,price)\n",
    "        self.warranty = warranty\n",
    "\n",
    "    def calculator(self,quantity):\n",
    "        total_price = super().calculator(quantity)\n",
    "        return f\"{total_price}. The warranty period is {self.warranty}\"\n",
    "\n",
    "product1 = PCD(2215,'M&Ms', 2000,'2 years')\n",
    "\n",
    "\n",
    "print(f\"Product ID: {product1.ID}\")\n",
    "print(f\"Product Name: {product1.name}\")\n",
    "print(f\"Price per Unit: {product1.price}\")\n",
    "quantity = 2\n",
    "print(product1.calculator(quantity))\n",
    "        "
   ]
  },
  {
   "cell_type": "raw",
   "id": "99d1e69d-1030-4d5d-aba7-8e02f4d9bb91",
   "metadata": {},
   "source": [
    "11. Write a Python program that creates a class called BankAccount with\n",
    "properties for account number, account holder name, and balance. Include\n",
    "methods to deposit, withdraw, and transfer money between accounts. Create\n",
    "multiple instances of the BankAccount class and perform operations such as\n",
    "depositing, withdrawing, and transferring money. "
   ]
  },
  {
   "cell_type": "code",
   "execution_count": 44,
   "id": "dc48f977-3115-4115-a171-b664de7493c6",
   "metadata": {},
   "outputs": [
    {
     "name": "stdout",
     "output_type": "stream",
     "text": [
      "Account Number: 101\n",
      "Account Holder: Ali\n",
      "Current Balance: 1000\n",
      "Account Number: 102\n",
      "Account Holder: Sara\n",
      "Current Balance: 2000\n",
      "500 deposited to account 101. New balance: 1500\n",
      "300 withdrawn from account 101. New balance: 1200\n",
      "700 transferred from account 101 to account 102.\n",
      "New balance for 101: 500\n",
      "New balance for 102: 2700\n",
      "Account Number: 101\n",
      "Account Holder: Ali\n",
      "Current Balance: 500\n",
      "Account Number: 102\n",
      "Account Holder: Sara\n",
      "Current Balance: 2700\n"
     ]
    }
   ],
   "source": [
    "class BankAccount:\n",
    "    def __init__(self, accno, ahn, balance=0):\n",
    "        self.accno = accno  # Account number\n",
    "        self.ahn = ahn      # Account holder name\n",
    "        self.balance = balance  # Current balance\n",
    "\n",
    "    def deposit(self, amount):\n",
    "        if amount > 0:\n",
    "            self.balance += amount\n",
    "            print(f\"{amount} deposited to account {self.accno}. New balance: {self.balance}\")\n",
    "        else:\n",
    "            print(\"Deposit amount must be positive.\")\n",
    "\n",
    "    def withdraw(self, amount):\n",
    "        if amount > 0:\n",
    "            if amount <= self.balance:\n",
    "                self.balance -= amount\n",
    "                print(f\"{amount} withdrawn from account {self.accno}. New balance: {self.balance}\")\n",
    "            else:\n",
    "                print(f\"Insufficient funds in account {self.accno}. Withdrawal failed.\")\n",
    "        else:\n",
    "            print(\"Withdrawal amount must be positive.\")\n",
    "\n",
    "    def transfer(self, amount, target_account):\n",
    "        if amount > 0:\n",
    "            if amount <= self.balance:\n",
    "                self.balance -= amount\n",
    "                target_account.balance += amount\n",
    "                print(f\"{amount} transferred from account {self.accno} to account {target_account.accno}.\")\n",
    "                print(f\"New balance for {self.accno}: {self.balance}\")\n",
    "                print(f\"New balance for {target_account.accno}: {target_account.balance}\")\n",
    "            else:\n",
    "                print(f\"Insufficient funds in account {self.accno}. Transfer failed.\")\n",
    "        else:\n",
    "            print(\"Transfer amount must be positive.\")\n",
    "\n",
    "    def display(self):\n",
    "        print(f\"Account Number: {self.accno}\")\n",
    "        print(f\"Account Holder: {self.ahn}\")\n",
    "        print(f\"Current Balance: {self.balance}\")\n",
    "\n",
    "\n",
    "# Example usage\n",
    "acc1 = BankAccount(101, \"Ali\", 1000)\n",
    "acc2 = BankAccount(102, \"Sara\", 2000)\n",
    "\n",
    "# Display initial account details\n",
    "acc1.display()\n",
    "acc2.display()\n",
    "\n",
    "\n",
    "acc1.deposit(500)\n",
    "acc1.withdraw(300)\n",
    "acc1.transfer(700, acc2)\n",
    "\n",
    "\n",
    "acc1.display()\n",
    "acc2.display()\n"
   ]
  },
  {
   "cell_type": "raw",
   "id": "6361922b-153c-4102-888e-27560231e87b",
   "metadata": {},
   "source": [
    "12. Write a Python program that creates a class called University with properties\n",
    "for university name and departments. Include methods to add a department,\n",
    "remove a department, and display all departments. Create an instance of the\n",
    "University class and add and remove departments. "
   ]
  },
  {
   "cell_type": "code",
   "execution_count": 30,
   "id": "ad7b77b1-294c-472c-b7ba-4b335c368b60",
   "metadata": {},
   "outputs": [
    {
     "name": "stdout",
     "output_type": "stream",
     "text": [
      "the new department name Khi added \n",
      "the new department name Lhr added \n",
      "the remove department name Lhr\n",
      "the department name  Hamdard added a new department: ['Khi']\n"
     ]
    }
   ],
   "source": [
    "class University():\n",
    "    def __init__(self,name):\n",
    "        self.name = name\n",
    "        self.departments = []\n",
    "\n",
    "    def add_department(self,departmentname):\n",
    "        if departmentname not in self.departments:\n",
    "            self.departments.append(departmentname)\n",
    "        print (f'the new department name {departmentname} added ')\n",
    "\n",
    "    def remove_department(self,departmentname):\n",
    "        if departmentname in self.departments:\n",
    "            self.departments.remove(departmentname)\n",
    "        print (f'the remove department name {departmentname}')\n",
    "\n",
    "    def display(self):\n",
    "        if self.departments:\n",
    "            print (f'the department name {self.name} added a new department: {self.departments}')\n",
    "        else:\n",
    "            print (f'sorry not avaialble')\n",
    "        \n",
    "University1 = University('Hamdard')\n",
    "\n",
    "University1.add_department('Khi')\n",
    "University1.add_department('Lhr')\n",
    "\n",
    "University1.remove_department('Lhr')\n",
    "\n",
    "University1.display()"
   ]
  },
  {
   "cell_type": "code",
   "execution_count": null,
   "id": "fcbb28aa-2ca2-42aa-8653-d45b71455502",
   "metadata": {},
   "outputs": [],
   "source": []
  }
 ],
 "metadata": {
  "kernelspec": {
   "display_name": "Python 3 (ipykernel)",
   "language": "python",
   "name": "python3"
  },
  "language_info": {
   "codemirror_mode": {
    "name": "ipython",
    "version": 3
   },
   "file_extension": ".py",
   "mimetype": "text/x-python",
   "name": "python",
   "nbconvert_exporter": "python",
   "pygments_lexer": "ipython3",
   "version": "3.12.7"
  }
 },
 "nbformat": 4,
 "nbformat_minor": 5
}
