{
 "cells": [
  {
   "cell_type": "raw",
   "id": "7fbc75ea-0e00-4ef8-8ebf-28dec47366e7",
   "metadata": {},
   "source": [
    "1. Write a Python program to print the numbers from 1 to 10 using a for loop. \n"
   ]
  },
  {
   "cell_type": "code",
   "execution_count": 3,
   "id": "2b62296a-0d51-43f2-bb5a-891f32301204",
   "metadata": {},
   "outputs": [
    {
     "name": "stdout",
     "output_type": "stream",
     "text": [
      "1\n",
      "2\n",
      "3\n",
      "4\n",
      "5\n",
      "6\n",
      "7\n",
      "8\n",
      "9\n",
      "10\n"
     ]
    }
   ],
   "source": [
    "for numbers in range (1, 11):\n",
    "    \n",
    "    print (numbers)"
   ]
  },
  {
   "cell_type": "raw",
   "id": "a1390e62-71a6-48a2-8714-885c711db30e",
   "metadata": {},
   "source": [
    "2. Write a Python program to print the numbers from 20 to 1 using a while loop."
   ]
  },
  {
   "cell_type": "code",
   "execution_count": 7,
   "id": "b1ed72a1-10a9-4137-a1f0-25daccfb3e52",
   "metadata": {},
   "outputs": [
    {
     "name": "stdout",
     "output_type": "stream",
     "text": [
      "20\n",
      "19\n",
      "18\n",
      "17\n",
      "16\n",
      "15\n",
      "14\n",
      "13\n",
      "12\n",
      "11\n",
      "10\n",
      "9\n",
      "8\n",
      "7\n",
      "6\n",
      "5\n",
      "4\n",
      "3\n",
      "2\n",
      "1\n"
     ]
    }
   ],
   "source": [
    "number = 20\n",
    "while number >=1:\n",
    "    print (number)\n",
    "    number -=1"
   ]
  },
  {
   "cell_type": "raw",
   "id": "48a40322-54a7-40d1-b8cd-52ed3657e65f",
   "metadata": {},
   "source": [
    "3. Write a program to print even numbers from 1 to 10. "
   ]
  },
  {
   "cell_type": "code",
   "execution_count": 9,
   "id": "873eee3d-bf5e-4eeb-8e7e-d0c1ca79efb4",
   "metadata": {},
   "outputs": [
    {
     "name": "stdout",
     "output_type": "stream",
     "text": [
      "2\n",
      "4\n",
      "6\n",
      "8\n",
      "10\n"
     ]
    }
   ],
   "source": [
    "for numbers in range (1,11):\n",
    "    if numbers %2==0:\n",
    "        print (numbers)"
   ]
  },
  {
   "cell_type": "raw",
   "id": "c11235fe-6ade-468e-aaf2-e7b4c95a3698",
   "metadata": {},
   "source": [
    "4. Write a program that prompts the user to enter a number n and prints all the\n",
    "numbers from 1 to n. \n"
   ]
  },
  {
   "cell_type": "code",
   "execution_count": 15,
   "id": "c598e9af-a708-4507-827e-25241d58fae7",
   "metadata": {},
   "outputs": [
    {
     "name": "stdin",
     "output_type": "stream",
     "text": [
      "enter a number 12\n"
     ]
    },
    {
     "name": "stdout",
     "output_type": "stream",
     "text": [
      "0\n",
      "1\n",
      "2\n",
      "3\n",
      "4\n",
      "5\n",
      "6\n",
      "7\n",
      "8\n",
      "9\n",
      "10\n",
      "11\n",
      "12\n"
     ]
    }
   ],
   "source": [
    "n = int(input('enter a number'))\n",
    "for a in range(0,n+1):\n",
    "    print (a)"
   ]
  },
  {
   "cell_type": "raw",
   "id": "a783bd56-2e35-4a9d-abb9-bc0d16bd1515",
   "metadata": {},
   "source": [
    "5. Write a program that prompts the user to enter a number n, and then prints all the\n",
    "odd numbers between 1 and n. "
   ]
  },
  {
   "cell_type": "code",
   "execution_count": 19,
   "id": "75e55897-babe-4f8c-b81b-ed54f0f7b25d",
   "metadata": {},
   "outputs": [
    {
     "name": "stdin",
     "output_type": "stream",
     "text": [
      "enter your favorite no 10\n"
     ]
    },
    {
     "name": "stdout",
     "output_type": "stream",
     "text": [
      "1\n",
      "3\n",
      "5\n",
      "7\n",
      "9\n"
     ]
    }
   ],
   "source": [
    "n = int(input('enter your favorite no'))\n",
    "for a in range(1,n+1):\n",
    "    if a %2!=0:\n",
    "        print (a)"
   ]
  },
  {
   "cell_type": "raw",
   "id": "832a9743-418c-41b4-b03b-9fbd278a5a93",
   "metadata": {},
   "source": [
    "6. Write a program that prints 'Happy Birthday!' five times on screen. "
   ]
  },
  {
   "cell_type": "code",
   "execution_count": 35,
   "id": "19b82b8c-0709-4d73-ba04-5780109c68a2",
   "metadata": {},
   "outputs": [
    {
     "name": "stdout",
     "output_type": "stream",
     "text": [
      "Happy Birthday\n",
      "Happy Birthday\n",
      "Happy Birthday\n",
      "Happy Birthday\n",
      "Happy Birthday\n"
     ]
    }
   ],
   "source": [
    "for a in  range(5):\n",
    "    print ('Happy Birthday')"
   ]
  },
  {
   "cell_type": "raw",
   "id": "24358168-af34-4932-86f8-a3dfdb1ab5f1",
   "metadata": {},
   "source": [
    "7. Write a program that takes a number n as input from the user and generates the first\n",
    "n terms of the series formed by squaring the natural numbers.\n",
    "Sample output\n",
    "Enter a number: 6\n",
    "The first 6 terms of the series are:\n",
    "1 4 9 16 25 36"
   ]
  },
  {
   "cell_type": "code",
   "execution_count": 18,
   "id": "8add7b7d-a3b7-4744-b79f-15976186736b",
   "metadata": {},
   "outputs": [
    {
     "name": "stdin",
     "output_type": "stream",
     "text": [
      "enter a number 7\n"
     ]
    },
    {
     "name": "stdout",
     "output_type": "stream",
     "text": [
      "1 4 9 16 25 36 49 "
     ]
    }
   ],
   "source": [
    "n = int(input('enter a number'))\n",
    "for a in range(1,n+1):\n",
    "    print (a**2,end=\" \")"
   ]
  },
  {
   "cell_type": "raw",
   "id": "1891d7a8-f2ed-43f8-ba05-4dcac3ffa146",
   "metadata": {},
   "source": [
    "8. Write a program that prompts the user to input a number and prints its multiplication\n",
    "table."
   ]
  },
  {
   "cell_type": "code",
   "execution_count": 23,
   "id": "fec3f59b-565c-4464-9864-c065c592ab1e",
   "metadata": {},
   "outputs": [
    {
     "name": "stdin",
     "output_type": "stream",
     "text": [
      "enter a number 2\n"
     ]
    },
    {
     "name": "stdout",
     "output_type": "stream",
     "text": [
      "the table 2x1 = 2\n",
      "the table 2x2 = 4\n",
      "the table 2x3 = 6\n",
      "the table 2x4 = 8\n",
      "the table 2x5 = 10\n",
      "the table 2x6 = 12\n",
      "the table 2x7 = 14\n",
      "the table 2x8 = 16\n",
      "the table 2x9 = 18\n",
      "the table 2x10 = 20\n"
     ]
    }
   ],
   "source": [
    "n = int(input('enter a number'))\n",
    "for a in range(1,11):\n",
    "    print(f'the table {n}x{a} = {n*a}')"
   ]
  },
  {
   "cell_type": "raw",
   "id": "4b9e0fe7-c836-4343-8535-fa55e52aea12",
   "metadata": {},
   "source": [
    "9. Write a Python program to print the first 8 terms of an arithmetic progression starting\n",
    "with 3 and having a common difference of 4.\n",
    "The program should output the following sequence:\n",
    "3 7 11 15 19 23 27 31 "
   ]
  },
  {
   "cell_type": "code",
   "execution_count": 37,
   "id": "a5d625b7-30de-4e5d-bd08-7822b12ea713",
   "metadata": {},
   "outputs": [
    {
     "name": "stdout",
     "output_type": "stream",
     "text": [
      "3\n",
      "7\n",
      "11\n",
      "15\n",
      "19\n",
      "23\n",
      "27\n",
      "31\n"
     ]
    }
   ],
   "source": [
    "first_term = 3\n",
    "difference = 4\n",
    "for a in range (8):\n",
    "    final = first_term+a*difference\n",
    "    print (final)"
   ]
  },
  {
   "cell_type": "raw",
   "id": "0c080e9c-45ec-4d9f-a50b-67b2d4c69797",
   "metadata": {},
   "source": [
    "10. Write a Python program to print the first 6 terms of a geometric sequence starting\n",
    "with 2 and having a common ratio of 3.\n",
    "The program should output the following sequence:\n",
    "2 6 18 54 162 486 \n"
   ]
  },
  {
   "cell_type": "code",
   "execution_count": 41,
   "id": "7300197a-0474-4a7e-8599-a1305ffccb5b",
   "metadata": {},
   "outputs": [
    {
     "name": "stdout",
     "output_type": "stream",
     "text": [
      "2\n",
      "6\n",
      "18\n",
      "54\n",
      "162\n",
      "486\n"
     ]
    }
   ],
   "source": [
    "fn = 2\n",
    "dif = 3\n",
    "for a in range(6):\n",
    "    term = fn*(dif**a)\n",
    "    print (term)"
   ]
  },
  {
   "cell_type": "raw",
   "id": "dcbb306c-0287-40b2-a16e-526fbc6e2b48",
   "metadata": {},
   "source": [
    "11. Write a program that asks the user for a positive integer value. The program should\n",
    "calculate the sum of all the integers from 1 up to the number entered. For example, if\n",
    "the user enters 20, the loop will find the sum of 1, 2, 3, 4, ... 20."
   ]
  },
  {
   "cell_type": "code",
   "execution_count": 14,
   "id": "c94c6022-357b-4987-8f7b-adfa1466b1f3",
   "metadata": {},
   "outputs": [
    {
     "name": "stdin",
     "output_type": "stream",
     "text": [
      "enter the no 5\n"
     ]
    },
    {
     "name": "stdout",
     "output_type": "stream",
     "text": [
      "1\n",
      "2\n",
      "3\n",
      "4\n",
      "5\n",
      "The sum of all numbers from 0 to 5 is: 15\n"
     ]
    }
   ],
   "source": [
    "n = int(input('enter the no'))\n",
    "sum = 0\n",
    "for a in range (1, n+1):\n",
    "    print (a)\n",
    "    sum +=a\n",
    "print(f\"The sum of all numbers from 0 to {n} is: {sum}\")"
   ]
  },
  {
   "cell_type": "raw",
   "id": "0d58dcf9-bb4e-4ae9-8ebe-a54276cf23db",
   "metadata": {},
   "source": [
    "12. write a program that takes a positive integer N as input and calculates the sum of\n",
    "the reciprocals of all numbers from 1 up to N. The program should display the final sum.\n",
    "Output of the program should be like:\n",
    "Enter a positive integer: 5\n",
    "The sum of reciprocals from 1 to 5 is: 2.28"
   ]
  },
  {
   "cell_type": "code",
   "execution_count": 18,
   "id": "b80e5455-9117-440e-8946-4c377b65cbc7",
   "metadata": {},
   "outputs": [
    {
     "name": "stdin",
     "output_type": "stream",
     "text": [
      "enter a number :  5\n"
     ]
    },
    {
     "name": "stdout",
     "output_type": "stream",
     "text": [
      "1.00\n",
      "1.50\n",
      "1.83\n",
      "2.08\n",
      "2.28\n"
     ]
    }
   ],
   "source": [
    "N = int(input('enter a number : '))\n",
    "reciprocal_sum = 0\n",
    "for a in range(1,N+1):\n",
    "    reciprocal_sum +=1/a\n",
    "    print (f'{reciprocal_sum:.2f}')"
   ]
  },
  {
   "cell_type": "raw",
   "id": "cdfcdffb-605a-4ab9-baea-4b61abd2d1aa",
   "metadata": {},
   "source": [
    "13. Write a program that prompts the user to enter a number and repeats this process 5\n",
    "times. The program should accumulate the numbers entered and then display the final\n",
    "running total.\n",
    "Sample Output:\n",
    "Enter a number: 10\n",
    "Enter a number: 15\n",
    "Enter a number: 35\n",
    "Enter a number: 40\n",
    "Enter a number: 50\n",
    "The final running total is: 150"
   ]
  },
  {
   "cell_type": "code",
   "execution_count": 5,
   "id": "ef98568d-9fe5-4b6e-aecd-43fa979af3da",
   "metadata": {},
   "outputs": [
    {
     "name": "stdin",
     "output_type": "stream",
     "text": [
      "enter a number 10\n"
     ]
    },
    {
     "name": "stdout",
     "output_type": "stream",
     "text": [
      "10\n"
     ]
    },
    {
     "name": "stdin",
     "output_type": "stream",
     "text": [
      "enter a number 15\n"
     ]
    },
    {
     "name": "stdout",
     "output_type": "stream",
     "text": [
      "25\n"
     ]
    },
    {
     "name": "stdin",
     "output_type": "stream",
     "text": [
      "enter a number 25\n"
     ]
    },
    {
     "name": "stdout",
     "output_type": "stream",
     "text": [
      "50\n"
     ]
    },
    {
     "name": "stdin",
     "output_type": "stream",
     "text": [
      "enter a number 35\n"
     ]
    },
    {
     "name": "stdout",
     "output_type": "stream",
     "text": [
      "85\n"
     ]
    },
    {
     "name": "stdin",
     "output_type": "stream",
     "text": [
      "enter a number 40\n"
     ]
    },
    {
     "name": "stdout",
     "output_type": "stream",
     "text": [
      "125\n"
     ]
    }
   ],
   "source": [
    "total = 0\n",
    "for a in range(5):\n",
    "    number = int(input('enter a number'))\n",
    "    total +=number\n",
    "    print (total)"
   ]
  },
  {
   "cell_type": "raw",
   "id": "91481b0f-da22-4413-b2c1-d4003d616207",
   "metadata": {},
   "source": [
    "14. Write a program that prompts the user to enter a positive integer and calculates its\n",
    "factorial. The factorial of a positive integer 'n' is denoted as 'n!' and is calculated by\n",
    "multiplying all the integers from 1 to 'n' together. For example, the factorial of 5\n",
    "(denoted as 5!) is calculated as 1 x 2 x 3 x 4 x 5.\n",
    "The program should display the factorial value if the input is a positive number, or\n",
    "display a message stating that the factorial does not exist for negative numbers.\n",
    "Additionally, for an input of zero, the program should output that the factorial of 0 is 1. \n"
   ]
  },
  {
   "cell_type": "code",
   "execution_count": 25,
   "id": "ddf03b52-352f-491b-9734-262af5f844e7",
   "metadata": {},
   "outputs": [
    {
     "name": "stdin",
     "output_type": "stream",
     "text": [
      "enter a factorial number 5\n"
     ]
    },
    {
     "name": "stdout",
     "output_type": "stream",
     "text": [
      " the factorial of integer 5 is 120\n"
     ]
    }
   ],
   "source": [
    "n = int(input('enter a factorial number'))\n",
    "if n <0:\n",
    "    print (f'there cant be any factorial lesser than zero')\n",
    "elif n == 0:\n",
    "    print (f'the factorial of zero is always 1')\n",
    "else:\n",
    "    factorial = 1\n",
    "    for a in range(1,n+1):\n",
    "        factorial *=a\n",
    "    print (f' the factorial of integer {n} is {factorial}')\n",
    "        "
   ]
  },
  {
   "cell_type": "raw",
   "id": "4056b769-a42f-4f9d-9556-a9eb9b352ac6",
   "metadata": {},
   "source": [
    "15. Write a Python program that prompts the user to enter a base number and an\n",
    "exponent, and then calculates the power of the base to the exponent. The program\n",
    "should not use the exponentiation operator (**) or the math.pow() function. The\n",
    "program should handle both positive and negative exponents. "
   ]
  },
  {
   "cell_type": "code",
   "execution_count": 4,
   "id": "11f3224d-7e57-4449-9082-68d5a87cb050",
   "metadata": {},
   "outputs": [
    {
     "name": "stdin",
     "output_type": "stream",
     "text": [
      "Enter the base number:  5\n",
      "Enter the exponent:  3\n"
     ]
    },
    {
     "name": "stdout",
     "output_type": "stream",
     "text": [
      "5.0 raised to the power of 3 is 125.0\n"
     ]
    }
   ],
   "source": [
    "\n",
    "base = float(input(\"Enter the base number: \"))\n",
    "exponent = int(input(\"Enter the exponent: \"))\n",
    "\n",
    "\n",
    "if exponent >= 0:\n",
    "    result = 1\n",
    "    for a in range(exponent):\n",
    "        result *= base\n",
    "else:\n",
    "    result = 1\n",
    "    for a in range(abs(exponent)):\n",
    "        result *= base\n",
    "    result = 1 / result\n",
    "\n",
    "print(f\"{base} raised to the power of {exponent} is {result}\")\n"
   ]
  },
  {
   "cell_type": "code",
   "execution_count": null,
   "id": "79c0c64f-d21f-403b-8d0f-1fc33b64dc20",
   "metadata": {},
   "outputs": [],
   "source": []
  }
 ],
 "metadata": {
  "kernelspec": {
   "display_name": "Python 3 (ipykernel)",
   "language": "python",
   "name": "python3"
  },
  "language_info": {
   "codemirror_mode": {
    "name": "ipython",
    "version": 3
   },
   "file_extension": ".py",
   "mimetype": "text/x-python",
   "name": "python",
   "nbconvert_exporter": "python",
   "pygments_lexer": "ipython3",
   "version": "3.12.7"
  }
 },
 "nbformat": 4,
 "nbformat_minor": 5
}
