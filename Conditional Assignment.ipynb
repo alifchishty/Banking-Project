{
 "cells": [
  {
   "cell_type": "raw",
   "id": "97ad550e-af01-4e55-a1a4-3e957371349e",
   "metadata": {},
   "source": [
    "1.Write a program that prompts the user to input a number and display if the number\n",
    "is even or odd. \n"
   ]
  },
  {
   "cell_type": "code",
   "execution_count": 1,
   "id": "9a5ab87a-02e8-4507-a556-228b8d52d816",
   "metadata": {},
   "outputs": [
    {
     "name": "stdin",
     "output_type": "stream",
     "text": [
      "please enter the number 3\n"
     ]
    },
    {
     "name": "stdout",
     "output_type": "stream",
     "text": [
      "this is an odd number 3\n"
     ]
    }
   ],
   "source": [
    "number = int(input('please enter the number'))\n",
    "if number %2==0:\n",
    "    print (f'this is an even number {number}')\n",
    "else:\n",
    "    print (f'this is an odd number {number}')"
   ]
  },
  {
   "cell_type": "raw",
   "id": "e52bd593-4ec1-447c-a3d2-3e6b202b414b",
   "metadata": {},
   "source": [
    "2. Write a Python program that takes an age as input and determines whether a person\n",
    "is eligible to vote. If the age is 18 or above, print \"You are eligible to vote.\" Otherwise,\n",
    "print \"You are not eligible to vote yet.\". \n"
   ]
  },
  {
   "cell_type": "code",
   "execution_count": 11,
   "id": "7a1f7b75-debd-47f5-9130-d96ac79702f1",
   "metadata": {},
   "outputs": [
    {
     "name": "stdin",
     "output_type": "stream",
     "text": [
      "please enter your age 18\n"
     ]
    },
    {
     "name": "stdout",
     "output_type": "stream",
     "text": [
      "you are eligible to vote\n"
     ]
    }
   ],
   "source": [
    "age = int(input('please enter your age'))\n",
    "if age >=18:\n",
    "    print (f'you are eligible to vote')\n",
    "else:\n",
    "    print (f'sorry you are not eligible to vote yet')\n",
    "    "
   ]
  },
  {
   "cell_type": "raw",
   "id": "466b55a7-25c1-4bc3-b06a-5171e8d1d476",
   "metadata": {},
   "source": [
    "3. Write a program that prompts the user to input two integers and outputs the largest. "
   ]
  },
  {
   "cell_type": "code",
   "execution_count": 17,
   "id": "c7467dc6-f7f0-4cb8-930d-4e324fc4157c",
   "metadata": {},
   "outputs": [
    {
     "name": "stdin",
     "output_type": "stream",
     "text": [
      "enter your first number 10\n",
      "enter your 2nd number 20\n"
     ]
    },
    {
     "name": "stdout",
     "output_type": "stream",
     "text": [
      "the number 2 is the greater number than number 1: 20\n"
     ]
    }
   ],
   "source": [
    "number1 = int(input('enter your first number'))\n",
    "number2= int(input('enter your 2nd number'))\n",
    "if number1 >=number2:\n",
    "    print (f'the number 1 is the greater number than number 2: {number1}')\n",
    "else:\n",
    "    print (f'the number 2 is the greater number than number 1: {number2}')"
   ]
  },
  {
   "cell_type": "raw",
   "id": "3f05256d-0875-41e7-8607-0eb6bd2c03a7",
   "metadata": {},
   "source": [
    "4. Write a program that prompts the user to enter a number and determines whether it\n",
    "is positive, negative, or zero. The program should print \"Positive\" if the number is\n",
    "greater than 0, \"Negative\" if the number is less than 0, and \"Zero\" if the number is 0."
   ]
  },
  {
   "cell_type": "code",
   "execution_count": 29,
   "id": "68072d76-193b-4b0d-99f7-5462a766b0cd",
   "metadata": {},
   "outputs": [
    {
     "name": "stdin",
     "output_type": "stream",
     "text": [
      "enter your 1st number:  -1\n"
     ]
    },
    {
     "name": "stdout",
     "output_type": "stream",
     "text": [
      "your number is negative\n"
     ]
    }
   ],
   "source": [
    "no = int(input('enter your 1st number: '))\n",
    "if no >0:\n",
    "    print(f'you number is positive')\n",
    "elif no <0:\n",
    "    print(f'your number is negative')\n",
    "else:\n",
    "    print(f'your number is zero')\n",
    "    "
   ]
  },
  {
   "cell_type": "raw",
   "id": "80f9204a-2c65-45de-aaf1-790d89e41bc4",
   "metadata": {},
   "source": [
    "5. Write a program that prompts the user to enter their age and prints the\n",
    "corresponding age group. The program should use the following age groups:\n",
    "0-12: Child\n",
    "13-19: Teenager\n",
    "20-59: Adult\n",
    "60 and above: Senior Citizen"
   ]
  },
  {
   "cell_type": "code",
   "execution_count": 39,
   "id": "b2e4a1f8-f300-4abf-a07c-c62394481ffc",
   "metadata": {},
   "outputs": [
    {
     "name": "stdin",
     "output_type": "stream",
     "text": [
      "please enter your age:  60\n"
     ]
    },
    {
     "name": "stdout",
     "output_type": "stream",
     "text": [
      "your age group lies in senior citizen section\n"
     ]
    }
   ],
   "source": [
    "age = int(input('please enter your age: '))\n",
    "if age <=12:\n",
    "    print (f'your age group lies in child section')\n",
    "elif age <=19:\n",
    "    print (f'your age group lies in teenager section')\n",
    "elif age <=59:\n",
    "    print (f'your age group lies in adult section')\n",
    "else:\n",
    "    print (f'your age group lies in senior citizen section')"
   ]
  },
  {
   "cell_type": "raw",
   "id": "f63fae62-ac65-44ef-aef0-49915fc13a67",
   "metadata": {},
   "source": [
    "6. Write a program that prompts the user to input a number from 1 to 7. The program\n",
    "should display the corresponding day for the given number. For example, if the user\n",
    "types 1, the output should be Sunday. If the user types 7, the output should be\n",
    "Saturday. If the number is not between 1 to 7 user should get error message as shown\n",
    "in sample output. "
   ]
  },
  {
   "cell_type": "code",
   "execution_count": 45,
   "id": "99877ae3-548f-4916-bb61-4314385aa0ac",
   "metadata": {},
   "outputs": [
    {
     "name": "stdin",
     "output_type": "stream",
     "text": [
      "please enter your number here:  9\n"
     ]
    },
    {
     "name": "stdout",
     "output_type": "stream",
     "text": [
      "sorry you have enter the wrong number, try again\n"
     ]
    }
   ],
   "source": [
    "daynumber = int(input('please enter your number here: '))\n",
    "if daynumber ==1:\n",
    "    print (f'the day is sunday')\n",
    "elif daynumber ==2:\n",
    "    print (f'the day is monday')\n",
    "elif daynumber ==3:\n",
    "    print (f'the day is tuseday')\n",
    "elif daynumber ==4:\n",
    "    print (f'the day is wedenesday')\n",
    "elif daynumber ==5:\n",
    "    print (f'the day is thursday')\n",
    "elif daynumber ==6:\n",
    "    print (f'the day is friday')\n",
    "elif daynumber ==7:\n",
    "    print (f'the day is saturday')\n",
    "else:\n",
    "    print(f'sorry you have enter the wrong number, try again')"
   ]
  },
  {
   "cell_type": "raw",
   "id": "3f799a73-480b-4010-a25f-5ee907181284",
   "metadata": {},
   "source": [
    "7. Write a program that prompts the user to enter their weight (in kilograms) and height\n",
    "(in meters). The program should calculate the Body Mass Index (BMI) using the formula:\n",
    "BMI = weight / (height * height). The program should then classify the BMI into one of\n",
    "the following categories: \n",
    "less than 18.5 - Underweight\n",
    "BMI between 18.5 and 24.9 - Normal weight\n",
    "BMI between 25 and 29.9 - Overweight\n",
    "BMI 30 or greater - Obesity"
   ]
  },
  {
   "cell_type": "code",
   "execution_count": 49,
   "id": "0381aa0d-d6fe-4e23-baea-2e5f8846ffb8",
   "metadata": {},
   "outputs": [
    {
     "name": "stdin",
     "output_type": "stream",
     "text": [
      "please enter your weight in kg:  61\n",
      "please enter your height in meters:  1.7272\n"
     ]
    },
    {
     "name": "stdout",
     "output_type": "stream",
     "text": [
      "you are normal weight\n"
     ]
    }
   ],
   "source": [
    "weightkg = float(input('please enter your weight in kg: '))\n",
    "heightm = float(input('please enter your height in meters: '))\n",
    "BMI = weightkg/(heightm*heightm)\n",
    "if BMI <18.5:\n",
    "    print (f'you are underweight')\n",
    "elif BMI <24.9:\n",
    "    print (f'you are normal weight')\n",
    "elif BMI <29.9:\n",
    "    print (f'you are over weight')\n",
    "else:\n",
    "    print (f'you are suffering from obesity')\n"
   ]
  },
  {
   "cell_type": "raw",
   "id": "14ae9e8a-d05a-41a7-b537-5f0996d6502b",
   "metadata": {},
   "source": [
    "8. The marks obtained by a student in 3 different subjects are input by the user. Your\n",
    "program should calculate the average of subjects and display the grade. The student\n",
    "gets a grade as per the following rules:\n",
    "Average Grade\n",
    "90-100 A\n",
    "80-89 B\n",
    "70-79 C \n",
    "60-69 D\n",
    "0-59 F "
   ]
  },
  {
   "cell_type": "code",
   "execution_count": 69,
   "id": "e5711910-b3fc-453a-8607-43fd0218c56d",
   "metadata": {},
   "outputs": [
    {
     "name": "stdin",
     "output_type": "stream",
     "text": [
      "enter your subject 1 marks:  100\n",
      "enter your subject 2 marks:  100\n",
      "enter your subject 3 marks:  100\n"
     ]
    },
    {
     "name": "stdout",
     "output_type": "stream",
     "text": [
      "you got A grade, congrats\n"
     ]
    }
   ],
   "source": [
    "subject_1 = int(input('enter your subject 1 marks: '))\n",
    "subject_2 = int(input('enter your subject 2 marks: '))\n",
    "subject_3 = int(input('enter your subject 3 marks: '))\n",
    "totalmarks = 300\n",
    "obtmarks = subject_1+subject_2+subject_3\n",
    "percentage = obtmarks/totalmarks*100\n",
    "if percentage >=90:\n",
    "    print (f'you got A grade, congrats')\n",
    "elif percentage >=80:\n",
    "    print (f'not bad, you got B grade')\n",
    "elif percentage >=70:\n",
    "    print (f'you got a C grade')\n",
    "elif percentage >=60:\n",
    "    print (f'you got a D grade')\n",
    "else:\n",
    "    print (f'ops u failed, work hard!')\n",
    "    print ({grade})\n",
    "    "
   ]
  },
  {
   "cell_type": "raw",
   "id": "891d88a7-fc0c-4129-ad67-94df3dead2ad",
   "metadata": {},
   "source": [
    "9. The roots of the quadratic equation ax2\n",
    " + bx + c = 0, a ≠ 0 are given by the following\n",
    "formula:\n",
    "In this formula, the term b2\n",
    " - 4ac is called the discriminant. If b2\n",
    " - 4ac = 0, then the\n",
    "equation has two equal roots.\n",
    "If b2\n",
    " - 4ac > 0, the equation has two real roots. If b2\n",
    " - 4ac < 0, the equation has two\n",
    "complex roots.\n",
    "Write a program that prompts the user to input the value of a (the coefficient of x2\n",
    "), b\n",
    "(the coefficient of x), and c (the constant term) and outputs the roots of the quadratic\n",
    "equation. \n",
    "\n",
    "\n"
   ]
  },
  {
   "cell_type": "code",
   "execution_count": 1,
   "id": "fa1a0689-829a-4c32-b707-16158cc41fa2",
   "metadata": {},
   "outputs": [],
   "source": [
    "import math"
   ]
  },
  {
   "cell_type": "code",
   "execution_count": 5,
   "id": "73a4b14b-7800-4dac-92c6-0efe7ffdba96",
   "metadata": {},
   "outputs": [
    {
     "name": "stdin",
     "output_type": "stream",
     "text": [
      "enter the cofficientof a:  10\n",
      "enter the cofficient of b:  22\n",
      "enter the cofficient of c:  25\n"
     ]
    },
    {
     "name": "stdout",
     "output_type": "stream",
     "text": [
      "Equation got two complex roots: -1.1 + 1.1357816691600546 aur -1.1 - 1.1357816691600546\n"
     ]
    }
   ],
   "source": [
    "import math\n",
    "a = int(input('enter the cofficientof a: '))\n",
    "b = int(input('enter the cofficient of b: '))\n",
    "c = int(input('enter the cofficient of c: '))\n",
    "\n",
    "if a == 0:\n",
    "    print (f'this is not a quardatic equation')\n",
    "else:\n",
    "    discriminant = b**2-4*a*c\n",
    "    if discriminant >0:\n",
    "        root1 = (-b + math.sqrt(discriminant)) / (2 * a)\n",
    "        root2 = (-b - math.sqrt(discriminant)) / (2 * a)\n",
    "        print (f'this equation got two real roots {root1} and {root2} ')\n",
    "    elif discriminant ==0:\n",
    "        root = -b / (2 * a)\n",
    "        print (f'the equation got same roots {root}')\n",
    "    else:\n",
    "        real_part = -b / (2 * a)\n",
    "        imaginary_part = math.sqrt(abs(discriminant)) / (2 * a)\n",
    "        print(f\"Equation got two complex roots: {real_part} + {imaginary_part} aur {real_part} - {imaginary_part}\")\n"
   ]
  },
  {
   "cell_type": "raw",
   "id": "e822ff17-a74d-4c79-ba90-305c60ec0547",
   "metadata": {},
   "source": [
    "10. Write a program that prompts the user to enter three numbers and sorts them in\n",
    "ascending order. The program should print the sorted numbers. \n"
   ]
  },
  {
   "cell_type": "code",
   "execution_count": 73,
   "id": "77d776ae-b726-494b-a4ee-19d0b80dd58c",
   "metadata": {},
   "outputs": [
    {
     "name": "stdin",
     "output_type": "stream",
     "text": [
      "Enter the first number:  6\n",
      "Enter the second number:  8\n",
      "Enter the third number:  0\n"
     ]
    },
    {
     "name": "stdout",
     "output_type": "stream",
     "text": [
      "The numbers in ascending order are: [0, 6, 8]\n"
     ]
    }
   ],
   "source": [
    "num1 = int(input(\"Enter the first number: \"))\n",
    "num2 = int(input(\"Enter the second number: \"))\n",
    "num3 = int(input(\"Enter the third number: \"))\n",
    "\n",
    "numbers = [num1, num2, num3]\n",
    "numbers.sort()\n",
    "\n",
    "print(\"The numbers in ascending order are:\", numbers)\n"
   ]
  },
  {
   "cell_type": "raw",
   "id": "0559b88e-1203-41d9-8a65-a8e2ae822def",
   "metadata": {},
   "source": [
    "11. Write a program that prompts the user to input three integers and outputs the\n",
    "largest. \n"
   ]
  },
  {
   "cell_type": "code",
   "execution_count": 77,
   "id": "7f26c201-f30e-4008-bfc7-8ebfb563db83",
   "metadata": {},
   "outputs": [
    {
     "name": "stdin",
     "output_type": "stream",
     "text": [
      "Enter the first number:  10\n",
      "Enter the second number:  11\n",
      "Enter the third number:  22\n"
     ]
    },
    {
     "name": "stdout",
     "output_type": "stream",
     "text": [
      " the largest number is: 22\n"
     ]
    }
   ],
   "source": [
    "num1 = int(input(\"Enter the first number: \"))\n",
    "num2 = int(input(\"Enter the second number: \"))\n",
    "num3 = int(input(\"Enter the third number: \"))\n",
    "\n",
    "if num1>num2 and num1>num3:\n",
    "    largest = num1\n",
    "elif num2>num1 and num2>num3:\n",
    "    largest = num2\n",
    "else:\n",
    "    largest = num3\n",
    "print (f' the largest number is:', largest)\n",
    "\n",
    "# u can also use the max() function"
   ]
  },
  {
   "cell_type": "raw",
   "id": "e2541bdf-15e1-4470-bd2a-1b43700fa9c1",
   "metadata": {},
   "source": [
    "12. Write a program that prompts the user to input a character and determine the\n",
    "character is vowel or consonant"
   ]
  },
  {
   "cell_type": "code",
   "execution_count": 85,
   "id": "cb51cff7-d4b2-4217-9abf-6f48c935bb2f",
   "metadata": {},
   "outputs": [
    {
     "name": "stdin",
     "output_type": "stream",
     "text": [
      "please enter the alphabet e\n"
     ]
    },
    {
     "name": "stdout",
     "output_type": "stream",
     "text": [
      " this is a vowel\n"
     ]
    }
   ],
   "source": [
    "alphabet = input('please enter the alphabet')\n",
    "if alphabet =='a':\n",
    "    print (f' this is a vowel')\n",
    "elif alphabet =='e':\n",
    "    print (f' this is a vowel') \n",
    "elif alphabet =='i':\n",
    "    print (f' this is a vowel')\n",
    "elif alphabet == 'o':\n",
    "    print (f' this is a vowel')\n",
    "elif alphabet == 'u':\n",
    "    print (f' this is a vowel')\n",
    "else:\n",
    "    print (f'this is consonant')"
   ]
  },
  {
   "cell_type": "raw",
   "id": "9873ab67-c5f1-4fd2-bd77-0a29a8386871",
   "metadata": {},
   "source": [
    "13. Write a program that prompts the user to input a year and determine whether the\n",
    "year is a leap year or not.\n",
    "Leap Years are any year that can be evenly divided by 4. A year that is evenly divisible by\n",
    "100 is a leap year only if it is also evenly divisible by 400. Example:\n",
    "1992 Leap Year\n",
    "2000 Leap Year\n",
    "1900 NOT a Leap Year\n",
    "1995 NOT a Leap Year\n",
    "\n"
   ]
  },
  {
   "cell_type": "code",
   "execution_count": 30,
   "id": "5cf36fee-6e3b-4b39-8939-b3ef9da5d7d3",
   "metadata": {},
   "outputs": [
    {
     "name": "stdin",
     "output_type": "stream",
     "text": [
      "please enter your year here 1900\n"
     ]
    },
    {
     "name": "stdout",
     "output_type": "stream",
     "text": [
      "its not a leap year\n"
     ]
    }
   ],
   "source": [
    "leap_year = int(input('please enter your year here'))\n",
    "if leap_year %4==0 and leap_year %400==0:\n",
    "    print ('its a leap year')\n",
    "else:\n",
    "    print ('its not a leap year')"
   ]
  },
  {
   "cell_type": "raw",
   "id": "1eec385c-f245-4863-89fc-15014217d5c2",
   "metadata": {},
   "source": [
    "14. Write a program that prompts the user to input number of calls and calculate the\n",
    "monthly telephone bills as per the following rule:\n",
    "Minimum Rs. 200 for up to 100 calls.\n",
    "Plus Rs. 0.60 per call for next 50 calls.\n",
    "Plus Rs. 0.50 per call for next 50 calls.\n",
    "Plus Rs. 0.40 per call for any call beyond 200 calls. "
   ]
  },
  {
   "cell_type": "code",
   "execution_count": 19,
   "id": "82277ab9-69d3-49ee-8384-c6ba18667c83",
   "metadata": {},
   "outputs": [
    {
     "name": "stdin",
     "output_type": "stream",
     "text": [
      "the number of calls please enter here:  201\n"
     ]
    },
    {
     "name": "stdout",
     "output_type": "stream",
     "text": [
      "the amount of bill for the 100 calls 200\n",
      "the amount of bill for the next 50 calls 1\n",
      "the amount of bill for the next 50 calls 0.5\n"
     ]
    }
   ],
   "source": [
    "calls = int(input('the number of calls please enter here: '))\n",
    "bill = 200\n",
    "if calls >=100:\n",
    "    print(f'the amount of bill for the 100 calls {rupees}')\n",
    "if  calls >=150:\n",
    "    extrabill = bill+0.60\n",
    "    print(f'the amount of bill for the next 50 calls {calls-bill}')\n",
    "if calls >=200:\n",
    "    extrabill = bill+0.50\n",
    "    print (f'the amount of bill for the next 50 calls {calls-extrabill}')\n",
    "else:\n",
    "    extrabill = bill+0.40\n",
    "    print (f'the amount of bill for the next 50 calls {calls-extrabill}')"
   ]
  },
  {
   "cell_type": "code",
   "execution_count": null,
   "id": "a78e03b4-974d-4ddf-83ee-3fa216e32bf7",
   "metadata": {},
   "outputs": [],
   "source": []
  }
 ],
 "metadata": {
  "kernelspec": {
   "display_name": "Python 3 (ipykernel)",
   "language": "python",
   "name": "python3"
  },
  "language_info": {
   "codemirror_mode": {
    "name": "ipython",
    "version": 3
   },
   "file_extension": ".py",
   "mimetype": "text/x-python",
   "name": "python",
   "nbconvert_exporter": "python",
   "pygments_lexer": "ipython3",
   "version": "3.12.7"
  }
 },
 "nbformat": 4,
 "nbformat_minor": 5
}
