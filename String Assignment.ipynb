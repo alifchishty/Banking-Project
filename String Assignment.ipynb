{
 "cells": [
  {
   "cell_type": "raw",
   "id": "c3595bfb-1c86-471e-b7fb-8c081bfa0888",
   "metadata": {},
   "source": [
    "1. Write a program that accepts a string from user. Your program should count and display number of\n",
    "vowels in that string. "
   ]
  },
  {
   "cell_type": "code",
   "execution_count": 18,
   "id": "93c8f166-a601-4461-bc51-0b25ce83eba7",
   "metadata": {},
   "outputs": [
    {
     "name": "stdin",
     "output_type": "stream",
     "text": [
      "please enter your input ali farooq\n"
     ]
    },
    {
     "name": "stdout",
     "output_type": "stream",
     "text": [
      "the vowels in ali farooq is 5\n"
     ]
    }
   ],
   "source": [
    "user_input = input('please enter your input').lower()\n",
    "vowels = \"aeiou\"\n",
    "vowel_count = 0\n",
    "for char in user_input:\n",
    "    if char in vowels:\n",
    "        vowel_count +=1\n",
    "print (f'the vowels in {user_input} is {vowel_count}')"
   ]
  },
  {
   "cell_type": "raw",
   "id": "e5418d2e-dc9a-454d-b7a4-9055b70b7ce4",
   "metadata": {},
   "source": [
    "2. Write a program that reads a string from keyboard and display:\n",
    "* The number of uppercase letters in the string\n",
    "* The number of lowercase letters in the string\n",
    "* The number of digits in the string\n",
    "* The number of whitespace characters in the string "
   ]
  },
  {
   "cell_type": "code",
   "execution_count": 29,
   "id": "9e8ba682-b34d-459a-827d-67dd056cce64",
   "metadata": {},
   "outputs": [
    {
     "name": "stdin",
     "output_type": "stream",
     "text": [
      "please enter your input here:  ALI FAROOQ/No2213\n"
     ]
    },
    {
     "name": "stdout",
     "output_type": "stream",
     "text": [
      "the input in upper case is 10\n",
      "the input in lower casecases 1\n",
      "the input in digits 4\n",
      "the input in whitespace 1\n"
     ]
    }
   ],
   "source": [
    "user_input = input('please enter your input here: ')\n",
    "uppercase_count = 0\n",
    "lowercase_count = 0\n",
    "digits_count = 0\n",
    "whitespace_count = 0\n",
    "\n",
    "for char in user_input:\n",
    "    if char.isupper():\n",
    "        uppercase_count +=1\n",
    "    if char.islower():\n",
    "        lowercase_count +=1\n",
    "    if char.isdigit():\n",
    "        digits_count +=1\n",
    "    if char.isspace():\n",
    "        whitespace_count +=1\n",
    "    \n",
    "print (f'the input in upper case is {uppercase_count}')\n",
    "print (f'the input in lower casecases {lowercase_count}')\n",
    "print (f'the input in digits {digits_count}')\n",
    "print (f'the input in whitespace {whitespace_count}')"
   ]
  },
  {
   "cell_type": "raw",
   "id": "70ce0421-b0d8-45c9-ba69-43d3657f6fd5",
   "metadata": {},
   "source": [
    "3. Write a Python program that accepts a string from user. Your program should create and display a\n",
    "new string where the first and last characters have been exchanged. \n",
    "France to ErancF"
   ]
  },
  {
   "cell_type": "code",
   "execution_count": 58,
   "id": "6ad2c351-f663-43ee-be2f-1fa7af771fea",
   "metadata": {},
   "outputs": [
    {
     "name": "stdin",
     "output_type": "stream",
     "text": [
      "please enter your word here france\n"
     ]
    },
    {
     "name": "stdout",
     "output_type": "stream",
     "text": [
      "erancf\n"
     ]
    }
   ],
   "source": [
    "enter = input('please enter your word here')\n",
    "new_entry = enter[-1]+enter[1:-1]+enter[0]\n",
    "print (f'{new_entry}')"
   ]
  },
  {
   "cell_type": "raw",
   "id": "8242c16c-42e3-4dbc-b9b7-e0a57a15f858",
   "metadata": {},
   "source": [
    " 4. Write a Python program that accepts a string from user. Your program should create a new string in\n",
    "reverse of first string and display it. \n"
   ]
  },
  {
   "cell_type": "code",
   "execution_count": 43,
   "id": "5f5a0ca5-12ec-4959-9180-e8edacfc3bdb",
   "metadata": {},
   "outputs": [
    {
     "name": "stdin",
     "output_type": "stream",
     "text": [
      "please enter the username pakistan\n"
     ]
    },
    {
     "name": "stdout",
     "output_type": "stream",
     "text": [
      "natsikap\n"
     ]
    }
   ],
   "source": [
    "stringname = input('please enter the username')\n",
    "reverse1 = stringname [::-1]\n",
    "print (reverse1)"
   ]
  },
  {
   "cell_type": "raw",
   "id": "948e97d3-b2a9-4820-b515-42173bceb0b1",
   "metadata": {},
   "source": [
    "5. Write a Python program that accepts a string from user. Your program should create a new string by\n",
    "shifting one position to left.\n",
    "For example if the user enters the string 'examination 2021' then new string would be 'xamination\n",
    "2021e' "
   ]
  },
  {
   "cell_type": "code",
   "execution_count": 59,
   "id": "fe071fdf-3d20-4ac0-891f-6a84dfe6881d",
   "metadata": {},
   "outputs": [
    {
     "name": "stdin",
     "output_type": "stream",
     "text": [
      "enter your word here examination 2021\n"
     ]
    },
    {
     "data": {
      "text/plain": [
       "16"
      ]
     },
     "execution_count": 59,
     "metadata": {},
     "output_type": "execute_result"
    }
   ],
   "source": [
    "p = input('enter your word here')\n",
    "len(p)"
   ]
  },
  {
   "cell_type": "code",
   "execution_count": 61,
   "id": "f4f1f23d-9742-4f65-9b88-6054af5e3715",
   "metadata": {},
   "outputs": [
    {
     "data": {
      "text/plain": [
       "'xamination 2021e'"
      ]
     },
     "execution_count": 61,
     "metadata": {},
     "output_type": "execute_result"
    }
   ],
   "source": [
    "np = p[1:16]+p[0]\n",
    "np"
   ]
  },
  {
   "cell_type": "raw",
   "id": "cb97f3b1-c576-4844-a178-47ee8b4d22aa",
   "metadata": {},
   "source": [
    "6. Write a program that asks the user to input his name and print its initials. Assuming that the user\n",
    "always types first name, middle name and last name and does not include any unnecessary spaces.\n",
    "For example, if the user enters Ajay Kumar Garg the program should display A. K. G.\n",
    "Note:Don't use split() method"
   ]
  },
  {
   "cell_type": "code",
   "execution_count": 88,
   "id": "36a46341-17ca-41df-9b31-5744b2ff2396",
   "metadata": {},
   "outputs": [
    {
     "name": "stdin",
     "output_type": "stream",
     "text": [
      "enter your name:  ali farooq chishty\n"
     ]
    },
    {
     "name": "stdout",
     "output_type": "stream",
     "text": [
      "('a', 'f', 'c')\n"
     ]
    }
   ],
   "source": [
    "name = input('enter your name: ')\n",
    "len (name)\n",
    "newname = name[0], name[4], name[11]\n",
    "print (newname)"
   ]
  },
  {
   "cell_type": "raw",
   "id": "d4eaa6a6-3441-4ed4-9f6b-eba5f5d0de5d",
   "metadata": {},
   "source": [
    "7. A palindrome is a string that reads the same backward as forward. For example, the words dad,\n",
    "madam and radar are all palindromes. Write a programs that determines whether the string is a\n",
    "palindrome. \n"
   ]
  },
  {
   "cell_type": "code",
   "execution_count": 99,
   "id": "786fe1d1-f4bd-48b9-a1e2-bb4ae6b9dc28",
   "metadata": {},
   "outputs": [
    {
     "name": "stdin",
     "output_type": "stream",
     "text": [
      "enter the word asim\n"
     ]
    },
    {
     "name": "stdout",
     "output_type": "stream",
     "text": [
      "its not a palindrome\n"
     ]
    }
   ],
   "source": [
    "word = input('enter the word').lower()\n",
    "if word == word[::-1]:\n",
    "    print ('this is a palindrome')\n",
    "else:\n",
    "    print ('its not a palindrome')\n"
   ]
  },
  {
   "cell_type": "raw",
   "id": "4686d5d6-8c4a-4ed2-b6bc-6be3889c34c1",
   "metadata": {},
   "source": [
    "8. Write a program that display following output:\n",
    "SHIFT\n",
    "HIFTS\n",
    "IFTSH\n",
    "FTSHI\n",
    "TSHIF\n",
    "SHIFT "
   ]
  },
  {
   "cell_type": "code",
   "execution_count": 27,
   "id": "4e18c9f2-f377-4048-961e-48a8889dbd67",
   "metadata": {},
   "outputs": [
    {
     "name": "stdout",
     "output_type": "stream",
     "text": [
      "SHIFT\n",
      "HIFTS\n",
      "IFTSH\n",
      "FTSHI\n",
      "TSHIF\n",
      "SHIFT\n"
     ]
    }
   ],
   "source": [
    "word = 'SHIFT'\n",
    "print (word)\n",
    "print (word[1:]+word[:1])\n",
    "print (word[2:]+word[:2])\n",
    "print (word[3:]+word[:3])\n",
    "print (word[4:]+word[:4])\n",
    "print (word)"
   ]
  },
  {
   "cell_type": "raw",
   "id": "d0035744-2fe7-4e3c-b38f-4092176df885",
   "metadata": {},
   "source": [
    "9. Write a program in python that accepts a string to setup a passwords. Your entered password must\n",
    "meet the following requirements:\n",
    "The password must be at least eight characters long.\n",
    "It must contain at least one uppercase letter.\n",
    "It must contain at least one lowercase letter.\n",
    "It must contain at least one numeric digit.\n",
    "Your program should should perform this valid"
   ]
  },
  {
   "cell_type": "code",
   "execution_count": 51,
   "id": "bc341f76-0e9a-40f0-b4d9-08013f9a1254",
   "metadata": {},
   "outputs": [
    {
     "name": "stdin",
     "output_type": "stream",
     "text": [
      "enter your password AliFarooqChishty2\n"
     ]
    },
    {
     "name": "stdout",
     "output_type": "stream",
     "text": [
      "password is valid\n"
     ]
    }
   ],
   "source": [
    "def password_validation(password):\n",
    "    if len(password) <8:\n",
    "        return ('the password must be 8 characters long')\n",
    "    if not any(char.isupper() for char in password):\n",
    "        return ('the password must contain 1 character in capital')\n",
    "    if not any(char.islower() for char in password):\n",
    "        return ('the password must contain 1 lower letter')\n",
    "    if not any(char.isdigit() for char in password):\n",
    "        return ('the password must contain in 1 digit')\n",
    "    return ('password is valid')\n",
    "userpassword = input('enter your password')\n",
    "result = password_validation(userpassword)\n",
    "print (result)"
   ]
  },
  {
   "cell_type": "code",
   "execution_count": null,
   "id": "9a325663-665f-4c0b-8e61-1eaf31c0a525",
   "metadata": {},
   "outputs": [],
   "source": []
  }
 ],
 "metadata": {
  "kernelspec": {
   "display_name": "Python 3 (ipykernel)",
   "language": "python",
   "name": "python3"
  },
  "language_info": {
   "codemirror_mode": {
    "name": "ipython",
    "version": 3
   },
   "file_extension": ".py",
   "mimetype": "text/x-python",
   "name": "python",
   "nbconvert_exporter": "python",
   "pygments_lexer": "ipython3",
   "version": "3.12.7"
  }
 },
 "nbformat": 4,
 "nbformat_minor": 5
}
