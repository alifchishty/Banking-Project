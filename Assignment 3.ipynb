{
 "cells": [
  {
   "cell_type": "raw",
   "id": "71a147c4-acd6-4409-822a-a8bb5c05b227",
   "metadata": {},
   "source": [
    "1.\tCheck Discount Eligibility\n",
    "Write a program to check if a customer is eligible for a discount. If the total purchase is more than $100, apply a 10% discount and display the final price. Otherwise, display the total price as it is.\n"
   ]
  },
  {
   "cell_type": "code",
   "execution_count": 1,
   "id": "c34e19be-5f07-4867-9c21-b06e21988cd2",
   "metadata": {},
   "outputs": [
    {
     "name": "stdin",
     "output_type": "stream",
     "text": [
      "Enter the total purchase amt:   191\n"
     ]
    },
    {
     "name": "stdout",
     "output_type": "stream",
     "text": [
      "Total purchase amt: $191\n",
      "discount availed $19.1\n",
      "Amount after discount is $171.9\n"
     ]
    }
   ],
   "source": [
    "total_purchase = int(input(\"Enter the total purchase amt:  \"))\n",
    "if total_purchase >100:\n",
    "    discount=total_purchase*.10\n",
    "    print (f\"Total purchase amt: ${total_purchase}\")\n",
    "    print (f\"discount availed ${discount}\")\n",
    "    print (f\"Amount after discount is ${total_purchase-discount}\")\n",
    "\n",
    "else:\n",
    "    print(f\"amount payable is {total_purchase}\")"
   ]
  },
  {
   "cell_type": "raw",
   "id": "71e80f46-74f9-401b-94fe-31e07176cfd6",
   "metadata": {},
   "source": [
    "2.\tCalculate Bulk Discount\n",
    "If a customer buys more than 5 items, apply a 15% discount on the total price. Otherwise, no discount is applied. Display the total price.\n"
   ]
  },
  {
   "cell_type": "code",
   "execution_count": 2,
   "id": "89bb226c-0523-460d-8eac-df618e3cfe3c",
   "metadata": {},
   "outputs": [
    {
     "name": "stdin",
     "output_type": "stream",
     "text": [
      "Enter the number of items purchased:   2\n",
      "Enter the total price 2222222\n"
     ]
    },
    {
     "name": "stdout",
     "output_type": "stream",
     "text": [
      "totalpriceos2222222\n"
     ]
    }
   ],
   "source": [
    "## items = int(input(\"Enter the number of items purchased:  \"))\n",
    "total_price = int(input(\"Enter the total price\"))\n",
    "if items >5:\n",
    "    discount = total_price*.15\n",
    "    print (f\" total price is {total_price-discount}\")\n",
    "else:\n",
    "    print (f\"totalpriceos{total_price}\")"
   ]
  },
  {
   "cell_type": "raw",
   "id": "1a26e378-a404-417d-9758-c199cd123b7d",
   "metadata": {},
   "source": [
    "3.\tMembership Discount\n",
    "Check if the customer is a member (is_member = True). Members get a 20% discount; non-members get a 5% discount. Calculate and print the discounted price.\n"
   ]
  },
  {
   "cell_type": "code",
   "execution_count": 3,
   "id": "15cc75f6-d3dd-465d-a319-5824fdd15a79",
   "metadata": {},
   "outputs": [
    {
     "name": "stdin",
     "output_type": "stream",
     "text": [
      "Are you a member or not (Y/N):   y\n"
     ]
    },
    {
     "name": "stdout",
     "output_type": "stream",
     "text": [
      "price: 8000.0\n"
     ]
    }
   ],
   "source": [
    "price = 10000\n",
    "is_member = input(\"Are you a member or not (Y/N):  \"). lower()\n",
    "if is_member == 'y' :\n",
    "    print (f\"price: {price*0.80}\")\n",
    "else:\n",
    "    print (f\"price: {price*.5}\")"
   ]
  },
  {
   "cell_type": "raw",
   "id": "da837fc4-8b0c-4916-be52-ac49442feaac",
   "metadata": {},
   "source": [
    "4.\tSeasonal Sale\n",
    "If today is a holiday (is_holiday = True), apply a 25% discount; otherwise, apply a 10% discount. Calculate the price after discount."
   ]
  },
  {
   "cell_type": "code",
   "execution_count": 19,
   "id": "79d367db-285c-4216-968c-958e43962245",
   "metadata": {},
   "outputs": [
    {
     "name": "stdin",
     "output_type": "stream",
     "text": [
      "enter the price of your items 20000\n",
      "is today a holiday, type y/n y\n"
     ]
    },
    {
     "name": "stdout",
     "output_type": "stream",
     "text": [
      " total price of the item: 20000\n",
      "            the total amount after discount on holiday is 15000.0 Rs\n"
     ]
    }
   ],
   "source": [
    "price = int(input(\"enter the price of your items\"))\n",
    "is_holiday = input(\"is today a holiday, type y/n\")\n",
    "if is_holiday =='y':\n",
    "    discount_holiday = price*.25\n",
    "    print (f\"\"\" total price of the item: {price}\n",
    "            the total amount after discount on holiday is {price-discount_holiday} Rs\"\"\")\n",
    "else:\n",
    "    discount_nonholiday= price*.10\n",
    "    print (f\"\"\" the total amount to pay {price}\n",
    "            amount to pay after 10% discount {price-discount_nonholiday}\"\"\")"
   ]
  },
  {
   "cell_type": "raw",
   "id": "9a0d2935-6bf8-4607-9646-22418a655496",
   "metadata": {},
   "source": [
    "5.\tBuy-One-Get-half-Free\n",
    "If a customer buys an even number of items, they get half of them for free. Otherwise, they pay for all. Calculate the number of items the customer has to pay for.\n"
   ]
  },
  {
   "cell_type": "code",
   "execution_count": 15,
   "id": "059b8822-2614-42d6-9db4-888cde84a9ae",
   "metadata": {},
   "outputs": [
    {
     "name": "stdin",
     "output_type": "stream",
     "text": [
      "enter the no of items 3\n"
     ]
    },
    {
     "name": "stdout",
     "output_type": "stream",
     "text": [
      "sorry, you have to pay full\n"
     ]
    }
   ],
   "source": [
    "no_items = int(input(\"enter the no of items\"))\n",
    "if no_items %2==0:\n",
    "    print (f\"congrats you have to pay half of the amount\")\n",
    "else:\n",
    "    print (f\"sorry, you have to pay full\")\n",
    "               \n",
    "               "
   ]
  },
  {
   "cell_type": "raw",
   "id": "0c5a0628-efbd-40d8-9123-0363f812845a",
   "metadata": {},
   "source": [
    "6.\tSales Tax\n",
    "If the price of an item is greater than $500, apply a luxury tax of 15%. Otherwise, apply a standard tax of 8%. Display the total price after tax."
   ]
  },
  {
   "cell_type": "code",
   "execution_count": 39,
   "id": "9a344b48-6b1d-4f1f-b01b-ba28acfbf639",
   "metadata": {},
   "outputs": [
    {
     "name": "stdin",
     "output_type": "stream",
     "text": [
      "enter the price of your items 200\n"
     ]
    },
    {
     "name": "stdout",
     "output_type": "stream",
     "text": [
      " the price of total items 200 Rs\n",
      "    the discount you get 16.0\n",
      "    the amount to pay after discount 184 Rs\n"
     ]
    }
   ],
   "source": [
    "price = int(input(\"enter the price of your items\"))\n",
    "if price >=500:\n",
    "    discount = price*.15\n",
    "    print(f\"\"\"the price of total items {price} Rs\n",
    "    the discount you get {discount}\n",
    "    the amount to pay after discount {int(price-discount)}\"\"\")\n",
    "\n",
    "else:\n",
    "    discount = price*0.08\n",
    "    print(f''' the price of total items {price} Rs\n",
    "    the discount you get {discount}\n",
    "    the amount to pay after discount {int(price-discount)} Rs''')"
   ]
  },
  {
   "cell_type": "raw",
   "id": "3d50de73-eb8b-4462-a6dd-195e3ace0920",
   "metadata": {},
   "source": [
    "7.\tIncome Tax\n",
    "If a person's annual income is above $50,000, they pay 20% tax. Otherwise, they pay 10%. Calculate and display the tax amount.\n"
   ]
  },
  {
   "cell_type": "code",
   "execution_count": 47,
   "id": "46abdf7a-495f-43a7-98d8-d8f9e829deb8",
   "metadata": {},
   "outputs": [
    {
     "name": "stdin",
     "output_type": "stream",
     "text": [
      "enter your dollar income 600000\n"
     ]
    },
    {
     "name": "stdout",
     "output_type": "stream",
     "text": [
      "the annual tax $120000.0\n",
      "    the amount you get after tax deduction $480000.0\n",
      "    \n"
     ]
    }
   ],
   "source": [
    "annual_income = int(input(\"enter your dollar income\"))\n",
    "if annual_income >50000:\n",
    "    annual_tax = annual_income*.20\n",
    "    print (f\"\"\"the annual tax ${annual_tax}\n",
    "    the amount you get after tax deduction ${annual_income-annual_tax}\n",
    "    \"\"\")\n",
    "else:\n",
    "    annual_tax = annual_income*.10\n",
    "    print (f\"\"\"the annual tax ${annual_tax}\n",
    "    the amount you get after tax deduction ${annual_income-annual_tax}\n",
    "    \"\"\")"
   ]
  },
  {
   "cell_type": "raw",
   "id": "0b5bf0d7-78dd-4ed3-9301-b80d3e24e3fa",
   "metadata": {},
   "source": [
    "8.\tTax Bracket\n",
    "Write a program to categorize a person into tax brackets:\n",
    "\tIncome < $30,000: \"Low Tax\"\n",
    "\t≤ Income < $100,000: \"Medium Tax\"\n",
    "\tIncome ≥ $100,000: \"High Tax\"\n"
   ]
  },
  {
   "cell_type": "code",
   "execution_count": 37,
   "id": "9cf83006-5f66-4d5e-86d9-c68a48f8571f",
   "metadata": {},
   "outputs": [
    {
     "name": "stdin",
     "output_type": "stream",
     "text": [
      "please enter the income here:  0\n"
     ]
    },
    {
     "name": "stdout",
     "output_type": "stream",
     "text": [
      "low tax\n"
     ]
    }
   ],
   "source": [
    "user_income = int(input(\"please enter the income here: \"))\n",
    "if user_income <30000:\n",
    "    print (f\"low tax\")\n",
    "elif user_income <100000:\n",
    "    print (f\"medium tax\")\n",
    "else:\n",
    "    print (f\"high tax\") \n"
   ]
  },
  {
   "cell_type": "raw",
   "id": "e33f0ccc-0227-4a4e-a890-7d41332e3583",
   "metadata": {},
   "source": [
    "9.\tVAT Calculation\n",
    "If the item is marked as essential (is_essential = True), apply a VAT of 5%. Otherwise, apply a VAT of 12%. Display the final price.\n"
   ]
  },
  {
   "cell_type": "code",
   "execution_count": 105,
   "id": "16c2f3d0-68a0-47a2-b63f-b54ff149cd47",
   "metadata": {},
   "outputs": [
    {
     "name": "stdin",
     "output_type": "stream",
     "text": [
      "please enter the item OIL\n"
     ]
    },
    {
     "name": "stdout",
     "output_type": "stream",
     "text": [
      "the vat is 25.0 RS\n",
      "    the total price 500\n",
      "    the price of items after 5% tax 525.0\n",
      "    \n"
     ]
    }
   ],
   "source": [
    "essential_items= {'wheat':200, 'rice':300, 'flour':400, 'oil':500, 'milk':800}\n",
    "items= input(\"please enter the item\").lower()\n",
    "if items in essential_items:\n",
    "    price = essential_items[items]\n",
    "    VAT = price*.05\n",
    "    total_price = price+VAT\n",
    "    print (f'''the vat is {VAT} RS\n",
    "    the total price {price}\n",
    "    the price of items after 5% tax {total_price}\n",
    "    ''')\n",
    "else:\n",
    "    vat = price*.12\n",
    "    print (f'''the vat is {VAT}\n",
    "    the total price {price}\n",
    "    the price of items after 12% tax {price+vat}\n",
    "    ''')\n",
    "    "
   ]
  },
  {
   "cell_type": "raw",
   "id": "2de0c6a5-7527-4397-a8a7-d9f1e2de4cd5",
   "metadata": {},
   "source": [
    "10.\tTax-Free Day\n",
    "If today is a tax-free day (tax_free = True), display the original price. Otherwise, add a 7% tax."
   ]
  },
  {
   "cell_type": "code",
   "execution_count": 25,
   "id": "77b481aa-d050-4923-896e-74432414e194",
   "metadata": {},
   "outputs": [
    {
     "name": "stdin",
     "output_type": "stream",
     "text": [
      "please enter the price of an item here:    200\n",
      "is today holiday please type y/n:     n\n"
     ]
    },
    {
     "name": "stdout",
     "output_type": "stream",
     "text": [
      "the price of your item after inclusive 7% tax is Rs 214.0\n"
     ]
    }
   ],
   "source": [
    "original_price = int(input(\"please enter the price of an item here:   \"))\n",
    "tax_free_day = input(\"is today holiday please type y/n:    \").lower()\n",
    "if tax_free_day =='y':\n",
    "    print (f'the price of your items is Rs {original_price}')\n",
    "else:\n",
    "    non_taxday = original_price*.07\n",
    "    print (f'the price of your item after inclusive 7% tax is Rs {original_price+non_taxday}')"
   ]
  },
  {
   "cell_type": "raw",
   "id": "73744e84-c25b-4841-b642-8fcc7ab3913e",
   "metadata": {},
   "source": [
    "C-\tShopping and Billing\n",
    "11.\tFree Shipping\n",
    "If the total purchase amount is more than $50, offer free shipping; otherwise, charge $5 for shipping. Display the total amount including shipping."
   ]
  },
  {
   "cell_type": "code",
   "execution_count": 35,
   "id": "689ee817-bbc3-4805-9774-e899ae670ccb",
   "metadata": {},
   "outputs": [
    {
     "name": "stdin",
     "output_type": "stream",
     "text": [
      "enter the total purchase amount please:$   49\n"
     ]
    },
    {
     "name": "stdout",
     "output_type": "stream",
     "text": [
      "the amount of the item 49\n",
      "the total amount you have to pay with shipping charges $54\n"
     ]
    }
   ],
   "source": [
    "amount = int(input(\"enter the total purchase amount please:$  \"))\n",
    "if amount >50:\n",
    "    print(f'congrats you got free shipping')\n",
    "else:\n",
    "    delivery_charges = 5\n",
    "    shipping = amount+delivery_charges\n",
    "    print (f\"\"\"the amount of the item {amount}\n",
    "the total amount you have to pay with shipping charges ${shipping}\"\"\")"
   ]
  },
  {
   "cell_type": "raw",
   "id": "aa0fd561-e3a2-458b-9921-5bac1fb81f1d",
   "metadata": {},
   "source": [
    "12.\tDiscount Code\n",
    "If a customer enters the correct discount code (DISCOUNT10), apply a 10% discount. Otherwise, charge the full amount."
   ]
  },
  {
   "cell_type": "code",
   "execution_count": 39,
   "id": "ff1152fb-b4f6-49ff-9b4c-ce92821edca0",
   "metadata": {},
   "outputs": [
    {
     "name": "stdin",
     "output_type": "stream",
     "text": [
      "enter the total amount here:   500\n",
      "enter discount code here:  discount10\n"
     ]
    },
    {
     "name": "stdout",
     "output_type": "stream",
     "text": [
      "the total amount 500\n",
      "the amount after discount code 450.0\n",
      "\n"
     ]
    }
   ],
   "source": [
    "amount = int(input(\"enter the total amount here:  \"))\n",
    "discount = input(\"enter discount code here: \").strip().lower()\n",
    "if discount =='discount10':\n",
    "    discount_10 = amount*.10\n",
    "    print (f\"\"\"the total amount {amount}\n",
    "the amount after discount code {amount-discount_10}\n",
    "\"\"\")\n",
    "else:\n",
    "    print (f\"pay full amount please, the full amount is {amount}\")"
   ]
  },
  {
   "cell_type": "raw",
   "id": "bf4b50ea-bde7-4fa3-bf89-da3329bec26e",
   "metadata": {},
   "source": [
    "13.\tTiered Discounts\n",
    "Apply discounts based on the total price:\n",
    "\t$0–$50: No discount.\n",
    "\t$50–$100: 10% discount.\n",
    "\tOver $100: 20% discount.\n"
   ]
  },
  {
   "cell_type": "code",
   "execution_count": 59,
   "id": "4f9ed3af-6980-425a-ac77-9e81d9ac744d",
   "metadata": {},
   "outputs": [
    {
     "name": "stdin",
     "output_type": "stream",
     "text": [
      "please enter the total price 51\n"
     ]
    },
    {
     "name": "stdout",
     "output_type": "stream",
     "text": [
      "thanks for buying, you get a discount of 5.10\n",
      "total amount to pay after discount 45.90\n",
      "\n"
     ]
    }
   ],
   "source": [
    "t_price = int(input(\"please enter the total price\"))\n",
    "if t_price <=50:\n",
    "    print(f'no discount')\n",
    "elif t_price <=100:\n",
    "    discount = t_price*.10\n",
    "    print(f\"\"\"thanks for buying, you get a discount of {discount:.2f}\n",
    "total amount to pay after discount {t_price-discount:.2f}\n",
    "\"\"\")\n",
    "else:\n",
    "    discount = t_price*.20\n",
    "    print(f\"\"\"thanks for buying, you get a discount of {discount:.2f}\n",
    "total amount to pay after discount {t_price-discount:.2f}\n",
    "\"\"\")"
   ]
  },
  {
   "cell_type": "raw",
   "id": "df66d461-b801-4f7b-ba53-52683ddedc8d",
   "metadata": {},
   "source": [
    "14.\tMinimum Purchase Requirement\n",
    "If the total amount is less than $20, display a message: \"Minimum purchase of $20 is required.\" Otherwise, display the total amount.\n"
   ]
  },
  {
   "cell_type": "code",
   "execution_count": 45,
   "id": "f29ab700-22cf-4e71-98bc-e1b9b2d35ffe",
   "metadata": {},
   "outputs": [
    {
     "name": "stdin",
     "output_type": "stream",
     "text": [
      "please enter the purchase amount here:   19\n"
     ]
    },
    {
     "name": "stdout",
     "output_type": "stream",
     "text": [
      "the minimum amount to purchase the items is 20$, sorry\n"
     ]
    }
   ],
   "source": [
    "purchase_amount = int(input(\"please enter the purchase amount here:  \"))\n",
    "if purchase_amount <20:\n",
    "    print (f'the minimum amount to purchase the items is 20$, sorry')\n",
    "else:\n",
    "    print (f'thanks for shopping, your amount to pay {purchase_amount}')"
   ]
  },
  {
   "cell_type": "raw",
   "id": "64bb55d6-f1d4-41ec-a7ac-ae3eaafc1413",
   "metadata": {},
   "source": [
    "15.\tLoyalty Points\n",
    "If a customer is a loyal member (is_loyal = True), they earn double loyalty points for their purchase. Otherwise, they earn standard points."
   ]
  },
  {
   "cell_type": "code",
   "execution_count": 49,
   "id": "ba86db14-6e30-4160-a04a-75430664a277",
   "metadata": {},
   "outputs": [
    {
     "name": "stdin",
     "output_type": "stream",
     "text": [
      "are you a loyal member, type y/n:  y\n",
      "enter your loyalty points 500\n"
     ]
    },
    {
     "name": "stdout",
     "output_type": "stream",
     "text": [
      "thanks for being a loyal customer, you earn double points 1000\n"
     ]
    }
   ],
   "source": [
    "member = input(\"are you a loyal member, type y/n: \").strip().lower()\n",
    "loyaltypoints = int(input(\"enter your loyalty points\"))\n",
    "if member =='y':\n",
    "    points = loyaltypoints*2\n",
    "    print (f'thanks for being a loyal customer, you earn double points {points}')\n",
    "else:\n",
    "    print (f'you get standard loyalty points {loyaltypoints}')\n",
    "\n",
    "\n"
   ]
  },
  {
   "cell_type": "raw",
   "id": "6754b353-36f8-410e-9a13-1c19225d62bc",
   "metadata": {},
   "source": [
    "16.\tTravel Discount\n",
    "If a person is traveling more than 500 miles, offer a 20% discount on ticket price. Otherwise, charge the full amount."
   ]
  },
  {
   "cell_type": "code",
   "execution_count": 67,
   "id": "d6ce3e17-3f82-42ea-90b8-ca20180a1588",
   "metadata": {},
   "outputs": [
    {
     "name": "stdin",
     "output_type": "stream",
     "text": [
      "please enter the miles you have travelled 501\n"
     ]
    },
    {
     "name": "stdout",
     "output_type": "stream",
     "text": [
      "thanks for flying, your total amount after discount is 4000.0\n"
     ]
    }
   ],
   "source": [
    "distance = int(input(\"please enter the miles you have travelled\"))\n",
    "tktprice = 5000\n",
    "if distance >500:\n",
    "    discountprice = tktprice*.20\n",
    "    \n",
    "    afterdiscount = tktprice-discountprice\n",
    "    \n",
    "    print (f'thanks for flying, your total amount after discount is {afterdiscount}')\n",
    "else:\n",
    "    print (f'thanks for flying total amount to pay {tktprice}')"
   ]
  },
  {
   "cell_type": "raw",
   "id": "0f6b9515-0457-416f-9ef7-b5303ea1e6c0",
   "metadata": {},
   "source": [
    "17.\tChild or Senior Discount\n",
    "If a passenger is under 12 or over 60 years old, apply a 15% discount on the ticket price. Otherwise, charge the full price.\n"
   ]
  },
  {
   "cell_type": "code",
   "execution_count": 79,
   "id": "c7559b25-9f35-4b7e-986a-96770ae0027c",
   "metadata": {},
   "outputs": [
    {
     "name": "stdin",
     "output_type": "stream",
     "text": [
      "enter the age 61\n"
     ]
    },
    {
     "name": "stdout",
     "output_type": "stream",
     "text": [
      "the price after discount for a senior citizen 94.9\n"
     ]
    }
   ],
   "source": [
    "tp = 100\n",
    "age = int(input(\"enter the age\"))\n",
    "disocunt = tp*.15\n",
    "if age <12:\n",
    "    print (f'the price after discount for a kid {tp-discount}')\n",
    "elif age >60:\n",
    "    print  (f'the price after discount for a senior citizen {tp-discount}')\n",
    "else:\n",
    "    print (f'pay the full ticket price {tp}')"
   ]
  },
  {
   "cell_type": "raw",
   "id": "31d35c5a-5e89-4c2d-94df-025b847a3d30",
   "metadata": {},
   "source": [
    "18.\tTicket Type Pricing\n",
    "If the ticket is for a weekend (is_weekend = True), add a 10% surcharge. Otherwise, charge the standard price.\n"
   ]
  },
  {
   "cell_type": "code",
   "execution_count": 71,
   "id": "8f4cec3b-1da2-4fdb-821b-a9f7b07337af",
   "metadata": {},
   "outputs": [
    {
     "name": "stdin",
     "output_type": "stream",
     "text": [
      "is today a weekend type y/n y\n"
     ]
    },
    {
     "name": "stdout",
     "output_type": "stream",
     "text": [
      "the standard price of the ticket is 10000\n",
      "the price after surcharge due to weekend 11000.0\n",
      "\n"
     ]
    }
   ],
   "source": [
    "standard_price = 10000\n",
    "weekend = input(\"is today a weekend type y/n\").strip().lower()\n",
    "if weekend == 'y':\n",
    "    surcharge = standard_price*.10\n",
    "    print (f\"\"\"the standard price of the ticket is {standard_price}\n",
    "the price after surcharge due to weekend {standard_price+surcharge}\n",
    "\"\"\")\n",
    "else:\n",
    "    print (f\"you price of the ticket is {standard_price}\")\n",
    "    \n"
   ]
  },
  {
   "cell_type": "raw",
   "id": "4a7b5b90-3287-4fda-ab52-d0cf4f497620",
   "metadata": {},
   "source": [
    "19.\tBaggage Fee\n",
    "If the total baggage weight is over 20kg, charge $10 per extra kilogram. Otherwise, no extra fee."
   ]
  },
  {
   "cell_type": "code",
   "execution_count": 83,
   "id": "da2fc632-a82e-445c-bb75-d54695e47afe",
   "metadata": {},
   "outputs": [
    {
     "name": "stdin",
     "output_type": "stream",
     "text": [
      "enter the baggage weight 21\n"
     ]
    },
    {
     "name": "stdout",
     "output_type": "stream",
     "text": [
      "you have to extra charges due to over weight, the baggage fee 4000\n",
      "the extra charges you have to pay 10\n",
      "the total amount payable 4010\n",
      "\n"
     ]
    }
   ],
   "source": [
    "baggagefee = 4000\n",
    "weight = int(input(\"enter the baggage weight\"))\n",
    "if weight >20:\n",
    "    extra=(weight-20)*10\n",
    "    print (f\"\"\"you have to extra charges due to over weight, the baggage fee {baggagefee}\n",
    "the extra charges you have to pay {extra}\n",
    "the total amount payable {baggagefee+extra}\n",
    "\"\"\")\n",
    "else:\n",
    "    print (f\"the total you have to pay {baggagefee}\")\n",
    "\n"
   ]
  },
  {
   "cell_type": "raw",
   "id": "fbd52c59-85c0-481c-9903-4e9c1f87c28f",
   "metadata": {},
   "source": [
    "20.\tEarly Bird Discount\n",
    "If a ticket is booked more than 30 days in advance, apply a 10% discount. Otherwise, charge the full price."
   ]
  },
  {
   "cell_type": "code",
   "execution_count": 89,
   "id": "bdd4df02-2468-44b6-8415-045bf0187b95",
   "metadata": {},
   "outputs": [
    {
     "name": "stdin",
     "output_type": "stream",
     "text": [
      "enter the days before you bought ticket 31\n"
     ]
    },
    {
     "name": "stdout",
     "output_type": "stream",
     "text": [
      "the ticket price you have to pay 4000\n",
      "the discount you get for early booking 400.0\n",
      "the total amount to pay after discount 3600.0\n",
      "\n"
     ]
    }
   ],
   "source": [
    "ticketprice= 4000\n",
    "days = int(input(\"enter the days before you bought ticket\"))\n",
    "if days >30:\n",
    "    discounttkt = ticketprice*.10\n",
    "    print(f\"\"\"the ticket price you have to pay {ticketprice}\n",
    "the discount you get for early booking {discounttkt}\n",
    "the total amount to pay after discount {ticketprice-discounttkt}\n",
    "\"\"\")\n",
    "else:\n",
    "    print (f' you have to pay the full price {ticketprice}')"
   ]
  },
  {
   "cell_type": "raw",
   "id": "edc61f76-fbec-4bad-929b-ecc74656f274",
   "metadata": {},
   "source": [
    "21.\tPass or Fail\n",
    "If a student scores 40 or more, print \"Pass\". Otherwise, print \"Fail\".\n"
   ]
  },
  {
   "cell_type": "code",
   "execution_count": 93,
   "id": "8c3f4c7f-da58-434c-996c-91f55f5d591d",
   "metadata": {},
   "outputs": [
    {
     "name": "stdin",
     "output_type": "stream",
     "text": [
      "enter the marks here: 39\n"
     ]
    },
    {
     "name": "stdout",
     "output_type": "stream",
     "text": [
      "sorry you are failed\n"
     ]
    }
   ],
   "source": [
    "marks= int(input(\"enter the marks here:\"))\n",
    "if marks >=40:\n",
    "    print (f'congrats you have passed')\n",
    "else:\n",
    "    print (f'sorry you are failed')"
   ]
  },
  {
   "cell_type": "raw",
   "id": "0b653db9-c12a-4435-8f41-044021c81a70",
   "metadata": {},
   "source": [
    "22.\tGrade Assignment\n",
    "Based on a student's score, assign grades:\n",
    "\t90 and above: \"A\"\n",
    "\t75–89: \"B\"\n",
    "\t50–74: \"C\"\n",
    "\tBelow 50: \"F\"\n"
   ]
  },
  {
   "cell_type": "code",
   "execution_count": 69,
   "id": "d72c2cf2-180e-4e58-b15c-3e32e54dbdf3",
   "metadata": {},
   "outputs": [
    {
     "name": "stdin",
     "output_type": "stream",
     "text": [
      "enter the marks in english:  51\n",
      "enter the marks in urdu:    51\n",
      "enter the marks in history:   51\n",
      "enter the marks in physics:   51\n"
     ]
    },
    {
     "name": "stdout",
     "output_type": "stream",
     "text": [
      "the total marks 400\n",
      "the marks obtained: 204\n",
      "grade: C\n"
     ]
    }
   ],
   "source": [
    "s1= int(input(\"enter the marks in english: \"))\n",
    "s2= int(input(\"enter the marks in urdu:   \"))\n",
    "s3= int(input(\"enter the marks in history:  \"))\n",
    "s4= int(input(\"enter the marks in physics:  \"))\n",
    "total_marks = 400\n",
    "grade = None\n",
    "marks_obtained = s1+s2+s3+s4\n",
    "percentage = marks_obtained/total_marks*100\n",
    "if percentage >=90:\n",
    "    grade = \"A\"\n",
    "elif percentage >=75:\n",
    "    grade = \"B\"\n",
    "elif percentage >=50:\n",
    "    grade = \"C\"\n",
    "else: \n",
    "    grade = \"F\"\n",
    "print (f\"\"\"the total marks {total_marks}\n",
    "the marks obtained: {marks_obtained}\n",
    "grade: {grade}\"\"\")"
   ]
  },
  {
   "cell_type": "raw",
   "id": "40c757c7-7901-4293-8437-6fe58a97e24a",
   "metadata": {},
   "source": [
    "23.\tBonus Marks\n",
    "If a student completes all assignments, add 5 bonus marks to their score. Otherwise, no bonus marks."
   ]
  },
  {
   "cell_type": "code",
   "execution_count": 97,
   "id": "37660c0a-e2bf-4b28-a009-d093be99e9f7",
   "metadata": {},
   "outputs": [
    {
     "name": "stdin",
     "output_type": "stream",
     "text": [
      "did student complete all the assignments type y/n y\n"
     ]
    },
    {
     "name": "stdout",
     "output_type": "stream",
     "text": [
      "congrats you get the bonus marks, your total marks 75\n"
     ]
    }
   ],
   "source": [
    "assignments = input(\"did student complete all the assignments type y/n\").strip().lower()\n",
    "if assignments =='y':\n",
    "    bonus_marks = 5\n",
    "    assignment_marks = 70\n",
    "    ba = bonus_marks +assignment_marks\n",
    "    print (f\"congrats you get the bonus marks, your total marks {ba}\")\n",
    "else:\n",
    "    print (f'sorry no bonus marks for you')\n",
    "    "
   ]
  },
  {
   "cell_type": "raw",
   "id": "cff55481-ef64-42a8-8979-b034993a7163",
   "metadata": {},
   "source": [
    "24.\tAttendance Eligibility\n",
    "If a student's attendance is 75% or more, they are eligible to take the exam. Otherwise, they are not.\n"
   ]
  },
  {
   "cell_type": "code",
   "execution_count": 109,
   "id": "8a054da3-3d22-49c1-b077-4ea93a67dc95",
   "metadata": {},
   "outputs": [
    {
     "name": "stdin",
     "output_type": "stream",
     "text": [
      "enter the no of classes attended:  10\n"
     ]
    },
    {
     "name": "stdout",
     "output_type": "stream",
     "text": [
      "sorry you are not eligible\n"
     ]
    }
   ],
   "source": [
    "total_classes = 20\n",
    "class_attend = int(input(\"enter the no of classes attended: \"))\n",
    "percentage= (class_attend/total_classes)*100\n",
    "if percentage >=75:\n",
    "        print (f'you are eligible for the exam')\n",
    "else:\n",
    "    print (f'sorry you are not eligible')"
   ]
  },
  {
   "cell_type": "raw",
   "id": "1c81c6d0-22f4-4ce8-81c4-06246046c240",
   "metadata": {},
   "source": [
    "25.\tScholarship Eligibility\n",
    "If a student's grade is \"A\" and their annual family income is below $30,000, they are eligible for a scholarship. Otherwise, they are not."
   ]
  },
  {
   "cell_type": "code",
   "execution_count": 23,
   "id": "fd242011-0030-49be-8569-71510341b2b5",
   "metadata": {},
   "outputs": [
    {
     "name": "stdin",
     "output_type": "stream",
     "text": [
      "enter the family income 2000\n",
      "enter the marks in english:  100\n",
      "enter the marks in urdu:    100\n",
      "enter the marks in history:   100\n",
      "enter the marks in physics:   100\n"
     ]
    },
    {
     "name": "stdout",
     "output_type": "stream",
     "text": [
      "The marks obtained 400 out of total 400\n",
      "You get a Grade A\n",
      "the family income 2000\n",
      "congrats you are eligible for the scholarship\n"
     ]
    }
   ],
   "source": [
    "family_income = int(input(\"enter the family income\"))\n",
    "s1= int(input(\"enter the marks in english: \"))\n",
    "s2= int(input(\"enter the marks in urdu:   \"))\n",
    "s3= int(input(\"enter the marks in history:  \"))\n",
    "s4= int(input(\"enter the marks in physics:  \"))\n",
    "total_marks = 400\n",
    "grade = None\n",
    "marks_obtained = s1+s2+s3+s4\n",
    "percentage = marks_obtained/total_marks*100\n",
    "if percentage >=90:\n",
    "    grade = \"A\"\n",
    "elif percentage >=80:\n",
    "    grade = \"B\"\n",
    "elif percentage >70:\n",
    "    grade = \"C\"\n",
    "else: \n",
    "    grade = \"D\"\n",
    "if grade in [\"A\"] and family_income <30000:\n",
    "    print (f\"\"\"The marks obtained {marks_obtained} out of total {total_marks}\n",
    "You get a Grade {grade}\n",
    "the family income {family_income}\n",
    "congrats you are eligible for the scholarship\"\"\")\n",
    "\n",
    "else:\n",
    "    print(f\"\"\"The marks obtained {marks_obtained} out of total {total_marks}\n",
    "You get a Grade {grade}\n",
    "the family income {family_income}\n",
    "sorry, you are not eligible for the scholarship\"\"\")"
   ]
  },
  {
   "cell_type": "code",
   "execution_count": null,
   "id": "aad90f0c-210f-441f-b7de-c759c24584ea",
   "metadata": {},
   "outputs": [],
   "source": []
  }
 ],
 "metadata": {
  "kernelspec": {
   "display_name": "Python 3 (ipykernel)",
   "language": "python",
   "name": "python3"
  },
  "language_info": {
   "codemirror_mode": {
    "name": "ipython",
    "version": 3
   },
   "file_extension": ".py",
   "mimetype": "text/x-python",
   "name": "python",
   "nbconvert_exporter": "python",
   "pygments_lexer": "ipython3",
   "version": "3.12.7"
  }
 },
 "nbformat": 4,
 "nbformat_minor": 5
}
