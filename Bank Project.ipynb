{
 "cells": [
  {
   "cell_type": "markdown",
   "id": "28f51af8-b9d1-4512-b710-7f97a8a1bb50",
   "metadata": {},
   "source": [
    "# Banking System"
   ]
  },
  {
   "cell_type": "markdown",
   "id": "1b41220c-6360-4178-ab28-9e05c1b96cb2",
   "metadata": {},
   "source": [
    "### Create an Account"
   ]
  },
  {
   "cell_type": "code",
   "execution_count": 22,
   "id": "0cc2c233-1694-4990-9054-9393448b81ed",
   "metadata": {},
   "outputs": [
    {
     "name": "stdin",
     "output_type": "stream",
     "text": [
      "Please enter your name:  jafar\n",
      "Please enter your father's name:  khan\n",
      "Please enter your 13 digit CNIC no:  4220177056311\n"
     ]
    },
    {
     "name": "stdout",
     "output_type": "stream",
     "text": [
      "Account created successfully! Your account number is 5518144631.\n",
      "{'Account No': 5518144631, 'Name': 'Jafar', 'Father Name': 'Khan', 'Cnic': 4220177056311, 'Balance': 0.0, 'Transaction': []}\n"
     ]
    }
   ],
   "source": [
    "import random\n",
    "\n",
    "# to add all accounts in list\n",
    "accounts = []\n",
    "\n",
    "# now creating account\n",
    "def createaccount():\n",
    "    \n",
    "    name = input('Please enter your name: ').title()\n",
    "    fathername = input('Please enter your father\\'s name: ').title()\n",
    "    try:\n",
    "        cnic = input('Please enter your 13 digit CNIC no: ')\n",
    "        cnic = str(cnic)\n",
    "        if len(cnic) != 13 or not cnic.isdigit():\n",
    "            raise ValueError('Invalid number, please enter a 13 digit no')\n",
    "        cnic = int(cnic)\n",
    "    except ValueError as ve:\n",
    "        return str(ve)\n",
    "  \n",
    "    generator = random.randint(1000000000, 9999999999) #random number generator\n",
    "    account = {}\n",
    "    account['Account No'] = generator\n",
    "    account['Name'] = name\n",
    "    account['Father Name'] = fathername\n",
    "    account['Cnic'] = cnic\n",
    "    account['Balance'] = 0.0\n",
    "    account['Transaction'] = []\n",
    "\n",
    "    # Adding accounts and made a txt file to save account details.\n",
    "    accounts.append(account)\n",
    "    print(f'Account created successfully! Your account number is {generator}.')\n",
    "    with open('accountdetails.txt', 'a') as k: \n",
    "        New_Accountdetails = f'Account Holder Name: {account['Name']}, Account No:{account['Account No']}, New Balance: {account[\"Balance\"]},\\n'\n",
    "        k.write(New_Accountdetails)\n",
    "    return account\n",
    "\n",
    "# to find the account no\n",
    "def find_account(account_no):\n",
    "    for account in accounts:\n",
    "        if account['Account No'] == account_no:\n",
    "            return account\n",
    "    return None  \n",
    "account = createaccount()\n",
    "print (account)\n",
    "\n",
    "\n"
   ]
  },
  {
   "cell_type": "markdown",
   "id": "d7165d32-18ab-4317-83c5-be695f0a24b5",
   "metadata": {},
   "source": [
    "# Deposit Amount"
   ]
  },
  {
   "cell_type": "code",
   "execution_count": 12,
   "id": "1806e51e-54f6-4a2e-8e1b-29afccfce1b0",
   "metadata": {},
   "outputs": [
    {
     "name": "stdin",
     "output_type": "stream",
     "text": [
      "Enter your account number:  6132942059\n",
      "Enter your deposit amount:  2000\n"
     ]
    },
    {
     "name": "stdout",
     "output_type": "stream",
     "text": [
      "your deposit amount is 2000 and the total balance is 2000.0\n",
      "{'Account No': 6132942059, 'Name': 'Ali', 'Father Name': 'Farooq', 'Cnic': 4220177056311, 'Balance': 2000.0, 'Transaction': [{'Type': 'Deposit', 'Amount': 2000, 'Balance After': 2000.0}]}\n"
     ]
    }
   ],
   "source": [
    "def depositamount():\n",
    "    account_no = int(input('Enter your account number: '))\n",
    "    account = find_account(account_no)\n",
    "    if not account:\n",
    "        print('Account not found!')\n",
    "        return\n",
    "    amount = int(input('Enter your deposit amount: ')) \n",
    "    if amount < 500:\n",
    "        print('Sorry, you cannot deposit an amount below 500.') #if amount lower than 500, you cannot deposit it\n",
    "    else:\n",
    "        account[\"Balance\"] += amount\n",
    "        print(f'your deposit amount is {amount} and the total balance is {account[\"Balance\"]}')\n",
    "\n",
    "        account['Transaction'].append({\n",
    "        'Type': 'Deposit',\n",
    "        'Amount': amount,\n",
    "        'Balance After': account[\"Balance\"]\n",
    "        })\n",
    "        \n",
    "    with open('transaction.txt', 'a') as f: #txt file to save deposit details\n",
    "            transaction_details = f'Account Holder Name: {account['Name']}, Account No:{account['Account No']}, Deposit: {amount}, New Balance: {account[\"Balance\"]},\\n'\n",
    "            f.write(transaction_details)\n",
    "    \n",
    "\n",
    "    return account\n",
    "account = depositamount()\n",
    "print(account)\n"
   ]
  },
  {
   "cell_type": "markdown",
   "id": "db9f380a-5ab0-463f-9271-d9786ce4ecfb",
   "metadata": {},
   "source": [
    "# Withdrawl Function"
   ]
  },
  {
   "cell_type": "code",
   "execution_count": 13,
   "id": "c161e2a5-5870-4e74-b6f6-989cb6085912",
   "metadata": {},
   "outputs": [
    {
     "name": "stdin",
     "output_type": "stream",
     "text": [
      "Enter your account number:  6132942059\n",
      "Please enter your withdrawl amount Rs: 1000\n"
     ]
    },
    {
     "name": "stdout",
     "output_type": "stream",
     "text": [
      "you withdrew Rs.1000 from your balance, your remaining balance is Rs.1000.0\n",
      "{'Account No': 6132942059, 'Name': 'Ali', 'Father Name': 'Farooq', 'Cnic': 4220177056311, 'Balance': 1000.0, 'Transaction': [{'Type': 'Deposit', 'Amount': 2000, 'Balance After': 2000.0}, {'Type': 'Withdrawal', 'Amount': 1000, 'Balance After': 1000.0}]}\n"
     ]
    }
   ],
   "source": [
    "def withdrawlamount():\n",
    "    account_no = int(input('Enter your account number: '))\n",
    "    account = find_account(account_no)\n",
    "    if not account:\n",
    "        print('Account not found!')\n",
    "        return\n",
    "    withdrawl = int(input('Please enter your withdrawl amount Rs:')) #to withdraw money if withdraw less than 0 it will give error\n",
    "    if withdrawl <=0:\n",
    "        print (f'Please enter the amount more than zero')\n",
    "    elif withdrawl <= account[\"Balance\"]:\n",
    "        account[\"Balance\"]-=withdrawl\n",
    "        print (f'you withdrew Rs.{withdrawl} from your balance, your remaining balance is Rs.{account[\"Balance\"]}')\n",
    "        account['Transaction'].append({\n",
    "            'Type': 'Withdrawal',\n",
    "            'Amount': withdrawl,\n",
    "            'Balance After': account[\"Balance\"]\n",
    "        })\n",
    "        with open('transaction.txt', 'a') as f: \n",
    "            transaction_details = f'Account Holder Name: {account['Name']}, Account No:{account['Account No']}, Withdrawl: {withdrawl}, New Balance: {account[\"Balance\"]},\\n'\n",
    "            f.write(transaction_details)\n",
    "        \n",
    "    else:\n",
    "        print (f'insufficient balance please try again')\n",
    "    return account\n",
    "account = withdrawlamount()\n",
    "print(account)\n"
   ]
  },
  {
   "cell_type": "markdown",
   "id": "8a68c953-ae02-429e-81ce-5320c2600661",
   "metadata": {},
   "source": [
    "# Check Balance"
   ]
  },
  {
   "cell_type": "code",
   "execution_count": 34,
   "id": "32d0ff1e-5cf2-43c6-8669-027494a0706f",
   "metadata": {},
   "outputs": [
    {
     "name": "stdin",
     "output_type": "stream",
     "text": [
      "Enter your account number:  5722256366\n"
     ]
    },
    {
     "name": "stdout",
     "output_type": "stream",
     "text": [
      "Your current balance is Rs.9980000.0\n"
     ]
    }
   ],
   "source": [
    "def checkbalance():\n",
    "    account_no = int(input('Enter your account number: '))\n",
    "    account = find_account(account_no)\n",
    "    if not account:\n",
    "        print('Account not found!')\n",
    "        return\n",
    "\n",
    "    print(f\"Your current balance is Rs.{account['Balance']}\")\n",
    "    return account\n",
    "\n",
    "account = checkbalance()\n"
   ]
  },
  {
   "cell_type": "code",
   "execution_count": 33,
   "id": "0803ee12-d8dd-4c3a-94c0-6f7fc89565c3",
   "metadata": {},
   "outputs": [
    {
     "name": "stdout",
     "output_type": "stream",
     "text": [
      "---- Hello welcome to Chamatkar Bank -----\n",
      "For Account Creation, Press 1\n",
      "For Depsoit Amount, Press 2\n",
      "For Withdrawl Amount, Press 3\n",
      "For Balance Checking, Press 4\n",
      "Press 5 to Exit\n"
     ]
    },
    {
     "name": "stdin",
     "output_type": "stream",
     "text": [
      "Please enter your number or press 5 to exit 1\n",
      "Please enter your name:  Ali Farooq\n",
      "Please enter your father's name:  Umer Farooq\n",
      "Please enter your 13 digit CNIC no:  4220177056311\n"
     ]
    },
    {
     "name": "stdout",
     "output_type": "stream",
     "text": [
      "Account created successfully! Your account number is 5722256366.\n"
     ]
    },
    {
     "name": "stdin",
     "output_type": "stream",
     "text": [
      "Please enter your number or press 5 to exit 2\n",
      "Enter your account number:  5722256366\n",
      "Enter your deposit amount:  10000000\n"
     ]
    },
    {
     "name": "stdout",
     "output_type": "stream",
     "text": [
      "your deposit amount is 10000000 and the total balance is 10000000.0\n"
     ]
    },
    {
     "name": "stdin",
     "output_type": "stream",
     "text": [
      "Please enter your number or press 5 to exit 3\n",
      "Enter your account number:  5722256366\n",
      "Please enter your withdrawl amount Rs: 20000\n"
     ]
    },
    {
     "name": "stdout",
     "output_type": "stream",
     "text": [
      "you withdrew Rs.20000 from your balance, your remaining balance is Rs.9980000.0\n"
     ]
    },
    {
     "name": "stdin",
     "output_type": "stream",
     "text": [
      "Please enter your number or press 5 to exit 5\n"
     ]
    },
    {
     "name": "stdout",
     "output_type": "stream",
     "text": [
      "thanks for trusting Chamatkar Bank,hope to see you soon\n"
     ]
    }
   ],
   "source": [
    "def mainmenu():\n",
    "    print (f'---- Hello welcome to Chamatkar Bank -----')\n",
    "    print (f'For Account Creation, Press 1')\n",
    "    print (f'For Depsoit Amount, Press 2')\n",
    "    print (f'For Withdrawl Amount, Press 3')\n",
    "    print (f'For Balance Checking, Press 4')\n",
    "    print (f'Press 5 to Exit')\n",
    "    while True: #Loop and error handling\n",
    "        try:\n",
    "            choice = int(input('Please enter your number or press 5 to exit'))\n",
    "        except ValueError:\n",
    "            print(\"Invalid input. Please enter a number between 1 and 5.\")\n",
    "            continue\n",
    "        if choice == 1:\n",
    "            account = createaccount()\n",
    "        elif choice == 2:\n",
    "            account = depositamount()\n",
    "        elif choice == 3:\n",
    "            account = withdrawlamount()\n",
    "        elif choice == 4:\n",
    "            account = checkbalance()\n",
    "        elif choice == 5:\n",
    "            print (f'thanks for trusting Chamatkar Bank,hope to see you soon')\n",
    "            break\n",
    "        else:\n",
    "            print (f'invalid entry, please try again or for more query visit bank')\n",
    "            \n",
    "# to run the whole program altogether        \n",
    "mainmenu()\n"
   ]
  },
  {
   "cell_type": "code",
   "execution_count": null,
   "id": "5c93988a-162f-4625-bf0b-ee0dc5c8024f",
   "metadata": {},
   "outputs": [],
   "source": []
  }
 ],
 "metadata": {
  "kernelspec": {
   "display_name": "Python 3 (ipykernel)",
   "language": "python",
   "name": "python3"
  },
  "language_info": {
   "codemirror_mode": {
    "name": "ipython",
    "version": 3
   },
   "file_extension": ".py",
   "mimetype": "text/x-python",
   "name": "python",
   "nbconvert_exporter": "python",
   "pygments_lexer": "ipython3",
   "version": "3.12.7"
  }
 },
 "nbformat": 4,
 "nbformat_minor": 5
}
